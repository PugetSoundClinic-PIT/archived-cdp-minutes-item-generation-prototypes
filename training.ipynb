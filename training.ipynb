{
 "cells": [
  {
   "cell_type": "code",
   "execution_count": 21,
   "id": "78453175-55a5-45f9-80b4-b44e2acd8080",
   "metadata": {},
   "outputs": [
    {
     "data": {
      "text/html": [
       "<div>\n",
       "<style scoped>\n",
       "    .dataframe tbody tr th:only-of-type {\n",
       "        vertical-align: middle;\n",
       "    }\n",
       "\n",
       "    .dataframe tbody tr th {\n",
       "        vertical-align: top;\n",
       "    }\n",
       "\n",
       "    .dataframe thead th {\n",
       "        text-align: right;\n",
       "    }\n",
       "</style>\n",
       "<table border=\"1\" class=\"dataframe\">\n",
       "  <thead>\n",
       "    <tr style=\"text-align: right;\">\n",
       "      <th></th>\n",
       "      <th>infrastructure</th>\n",
       "      <th>session_id</th>\n",
       "      <th>event_id</th>\n",
       "      <th>transcript_path</th>\n",
       "      <th>minutes_items</th>\n",
       "    </tr>\n",
       "  </thead>\n",
       "  <tbody>\n",
       "    <tr>\n",
       "      <th>0</th>\n",
       "      <td>cdp-seattle-21723dcf</td>\n",
       "      <td>001f1a4e4e3c</td>\n",
       "      <td>d916e9acd175</td>\n",
       "      <td>cdp-minutes-item-generation-dataset/transcript...</td>\n",
       "      <td>[ADOPTION OF OTHER RESOLUTIONS, PRESENTATIONS,...</td>\n",
       "    </tr>\n",
       "    <tr>\n",
       "      <th>1</th>\n",
       "      <td>cdp-seattle-21723dcf</td>\n",
       "      <td>008f4e8d253c</td>\n",
       "      <td>75bb0f7c2ba4</td>\n",
       "      <td>cdp-minutes-item-generation-dataset/transcript...</td>\n",
       "      <td>[CB 120084, CB 120083, Call To Order, Adjournm...</td>\n",
       "    </tr>\n",
       "    <tr>\n",
       "      <th>2</th>\n",
       "      <td>cdp-seattle-21723dcf</td>\n",
       "      <td>015dd602acce</td>\n",
       "      <td>30411cba563e</td>\n",
       "      <td>cdp-minutes-item-generation-dataset/transcript...</td>\n",
       "      <td>[CB 120265, Inf 2011, Public Comment, CB 12026...</td>\n",
       "    </tr>\n",
       "    <tr>\n",
       "      <th>3</th>\n",
       "      <td>cdp-seattle-21723dcf</td>\n",
       "      <td>01a6d09dd442</td>\n",
       "      <td>9f581faa5ece</td>\n",
       "      <td>cdp-minutes-item-generation-dataset/transcript...</td>\n",
       "      <td>[Inf 1736, Inf 1735, President's Report, Appro...</td>\n",
       "    </tr>\n",
       "    <tr>\n",
       "      <th>4</th>\n",
       "      <td>cdp-seattle-21723dcf</td>\n",
       "      <td>01e75165fea1</td>\n",
       "      <td>9486903291a7</td>\n",
       "      <td>cdp-minutes-item-generation-dataset/transcript...</td>\n",
       "      <td>[Approval of the Minutes, Inf 1972, Inf 1961, ...</td>\n",
       "    </tr>\n",
       "    <tr>\n",
       "      <th>...</th>\n",
       "      <td>...</td>\n",
       "      <td>...</td>\n",
       "      <td>...</td>\n",
       "      <td>...</td>\n",
       "      <td>...</td>\n",
       "    </tr>\n",
       "    <tr>\n",
       "      <th>516</th>\n",
       "      <td>cdp-seattle-21723dcf</td>\n",
       "      <td>fd5d2f907449</td>\n",
       "      <td>34f160b4a508</td>\n",
       "      <td>cdp-minutes-item-generation-dataset/transcript...</td>\n",
       "      <td>[ADJOURNMENT, ADOPTION OF OTHER RESOLUTIONS, C...</td>\n",
       "    </tr>\n",
       "    <tr>\n",
       "      <th>517</th>\n",
       "      <td>cdp-seattle-21723dcf</td>\n",
       "      <td>fd7f4922bcc3</td>\n",
       "      <td>d0d75a1259aa</td>\n",
       "      <td>cdp-minutes-item-generation-dataset/transcript...</td>\n",
       "      <td>[Inf 1878, Inf 1876, Session I - 9:30 a.m., In...</td>\n",
       "    </tr>\n",
       "    <tr>\n",
       "      <th>518</th>\n",
       "      <td>cdp-seattle-21723dcf</td>\n",
       "      <td>fe09e3d1564f</td>\n",
       "      <td>9fc2e3743166</td>\n",
       "      <td>cdp-minutes-item-generation-dataset/transcript...</td>\n",
       "      <td>[Approval of the Agenda, Inf 1812, Public Comm...</td>\n",
       "    </tr>\n",
       "    <tr>\n",
       "      <th>519</th>\n",
       "      <td>cdp-seattle-21723dcf</td>\n",
       "      <td>fe7c8aa0dd58</td>\n",
       "      <td>7b13838e9e3e</td>\n",
       "      <td>cdp-minutes-item-generation-dataset/transcript...</td>\n",
       "      <td>[Preview of Today’s City Council Actions, Coun...</td>\n",
       "    </tr>\n",
       "    <tr>\n",
       "      <th>520</th>\n",
       "      <td>cdp-seattle-21723dcf</td>\n",
       "      <td>fecdaba2b0f8</td>\n",
       "      <td>96c66c06f12c</td>\n",
       "      <td>cdp-minutes-item-generation-dataset/transcript...</td>\n",
       "      <td>[Preview of Today’s City Council Actions, Coun...</td>\n",
       "    </tr>\n",
       "  </tbody>\n",
       "</table>\n",
       "<p>521 rows × 5 columns</p>\n",
       "</div>"
      ],
      "text/plain": [
       "           infrastructure    session_id      event_id  \\\n",
       "0    cdp-seattle-21723dcf  001f1a4e4e3c  d916e9acd175   \n",
       "1    cdp-seattle-21723dcf  008f4e8d253c  75bb0f7c2ba4   \n",
       "2    cdp-seattle-21723dcf  015dd602acce  30411cba563e   \n",
       "3    cdp-seattle-21723dcf  01a6d09dd442  9f581faa5ece   \n",
       "4    cdp-seattle-21723dcf  01e75165fea1  9486903291a7   \n",
       "..                    ...           ...           ...   \n",
       "516  cdp-seattle-21723dcf  fd5d2f907449  34f160b4a508   \n",
       "517  cdp-seattle-21723dcf  fd7f4922bcc3  d0d75a1259aa   \n",
       "518  cdp-seattle-21723dcf  fe09e3d1564f  9fc2e3743166   \n",
       "519  cdp-seattle-21723dcf  fe7c8aa0dd58  7b13838e9e3e   \n",
       "520  cdp-seattle-21723dcf  fecdaba2b0f8  96c66c06f12c   \n",
       "\n",
       "                                       transcript_path  \\\n",
       "0    cdp-minutes-item-generation-dataset/transcript...   \n",
       "1    cdp-minutes-item-generation-dataset/transcript...   \n",
       "2    cdp-minutes-item-generation-dataset/transcript...   \n",
       "3    cdp-minutes-item-generation-dataset/transcript...   \n",
       "4    cdp-minutes-item-generation-dataset/transcript...   \n",
       "..                                                 ...   \n",
       "516  cdp-minutes-item-generation-dataset/transcript...   \n",
       "517  cdp-minutes-item-generation-dataset/transcript...   \n",
       "518  cdp-minutes-item-generation-dataset/transcript...   \n",
       "519  cdp-minutes-item-generation-dataset/transcript...   \n",
       "520  cdp-minutes-item-generation-dataset/transcript...   \n",
       "\n",
       "                                         minutes_items  \n",
       "0    [ADOPTION OF OTHER RESOLUTIONS, PRESENTATIONS,...  \n",
       "1    [CB 120084, CB 120083, Call To Order, Adjournm...  \n",
       "2    [CB 120265, Inf 2011, Public Comment, CB 12026...  \n",
       "3    [Inf 1736, Inf 1735, President's Report, Appro...  \n",
       "4    [Approval of the Minutes, Inf 1972, Inf 1961, ...  \n",
       "..                                                 ...  \n",
       "516  [ADJOURNMENT, ADOPTION OF OTHER RESOLUTIONS, C...  \n",
       "517  [Inf 1878, Inf 1876, Session I - 9:30 a.m., In...  \n",
       "518  [Approval of the Agenda, Inf 1812, Public Comm...  \n",
       "519  [Preview of Today’s City Council Actions, Coun...  \n",
       "520  [Preview of Today’s City Council Actions, Coun...  \n",
       "\n",
       "[521 rows x 5 columns]"
      ]
     },
     "execution_count": 21,
     "metadata": {},
     "output_type": "execute_result"
    }
   ],
   "source": [
    "import pandas as pd\n",
    "\n",
    "# 1. Read the dataset\n",
    "df = pd.read_parquet(\"cdp-minutes-item-generation-dataset/dataset.parquet\")\n",
    "df"
   ]
  },
  {
   "cell_type": "code",
   "execution_count": 22,
   "id": "4fad8b68-448b-4f76-aa1f-199e0e7fe898",
   "metadata": {},
   "outputs": [
    {
     "data": {
      "text/html": [
       "<div>\n",
       "<style scoped>\n",
       "    .dataframe tbody tr th:only-of-type {\n",
       "        vertical-align: middle;\n",
       "    }\n",
       "\n",
       "    .dataframe tbody tr th {\n",
       "        vertical-align: top;\n",
       "    }\n",
       "\n",
       "    .dataframe thead th {\n",
       "        text-align: right;\n",
       "    }\n",
       "</style>\n",
       "<table border=\"1\" class=\"dataframe\">\n",
       "  <thead>\n",
       "    <tr style=\"text-align: right;\">\n",
       "      <th></th>\n",
       "      <th>infrastructure</th>\n",
       "      <th>session_id</th>\n",
       "      <th>event_id</th>\n",
       "      <th>transcript_path</th>\n",
       "      <th>minutes_items</th>\n",
       "    </tr>\n",
       "  </thead>\n",
       "  <tbody>\n",
       "    <tr>\n",
       "      <th>273</th>\n",
       "      <td>cdp-seattle-21723dcf</td>\n",
       "      <td>884c13780b1d</td>\n",
       "      <td>7f5c5388633c</td>\n",
       "      <td>cdp-minutes-item-generation-dataset/transcript...</td>\n",
       "      <td>Approval of the Minutes;President's Report;Sig...</td>\n",
       "    </tr>\n",
       "    <tr>\n",
       "      <th>272</th>\n",
       "      <td>cdp-seattle-21723dcf</td>\n",
       "      <td>880bc2244617</td>\n",
       "      <td>bfc50250df4b</td>\n",
       "      <td>cdp-minutes-item-generation-dataset/transcript...</td>\n",
       "      <td>CB 119831;Public Comment;Adjournment;Approval ...</td>\n",
       "    </tr>\n",
       "    <tr>\n",
       "      <th>329</th>\n",
       "      <td>cdp-seattle-21723dcf</td>\n",
       "      <td>a7d9aa54081e</td>\n",
       "      <td>5d144a76c5fb</td>\n",
       "      <td>cdp-minutes-item-generation-dataset/transcript...</td>\n",
       "      <td>Inf 1662;Public Comment;Session I - 10:00 a.m....</td>\n",
       "    </tr>\n",
       "    <tr>\n",
       "      <th>481</th>\n",
       "      <td>cdp-seattle-21723dcf</td>\n",
       "      <td>f16d100e510a</td>\n",
       "      <td>af7492eec004</td>\n",
       "      <td>cdp-minutes-item-generation-dataset/transcript...</td>\n",
       "      <td>CB 119827;Inf 1677;Call To Order;Public Commen...</td>\n",
       "    </tr>\n",
       "    <tr>\n",
       "      <th>173</th>\n",
       "      <td>cdp-seattle-21723dcf</td>\n",
       "      <td>59e82e951afe</td>\n",
       "      <td>924690a901d9</td>\n",
       "      <td>cdp-minutes-item-generation-dataset/transcript...</td>\n",
       "      <td>Inf 1962;Approval of the Agenda;Inf 1963;Publi...</td>\n",
       "    </tr>\n",
       "    <tr>\n",
       "      <th>...</th>\n",
       "      <td>...</td>\n",
       "      <td>...</td>\n",
       "      <td>...</td>\n",
       "      <td>...</td>\n",
       "      <td>...</td>\n",
       "    </tr>\n",
       "    <tr>\n",
       "      <th>59</th>\n",
       "      <td>cdp-seattle-21723dcf</td>\n",
       "      <td>1ca25fd1350f</td>\n",
       "      <td>ee7672ff5985</td>\n",
       "      <td>cdp-minutes-item-generation-dataset/transcript...</td>\n",
       "      <td>Inf 1834;Public Comment;Adjournment;Approval o...</td>\n",
       "    </tr>\n",
       "    <tr>\n",
       "      <th>120</th>\n",
       "      <td>cdp-seattle-21723dcf</td>\n",
       "      <td>3f46d6319e6f</td>\n",
       "      <td>b542150ecb3e</td>\n",
       "      <td>cdp-minutes-item-generation-dataset/transcript...</td>\n",
       "      <td>Appt 02183;Public Comment;Adjournment;Inf 2040...</td>\n",
       "    </tr>\n",
       "    <tr>\n",
       "      <th>12</th>\n",
       "      <td>cdp-seattle-21723dcf</td>\n",
       "      <td>062f6b2b2003</td>\n",
       "      <td>79fb834ac65c</td>\n",
       "      <td>cdp-minutes-item-generation-dataset/transcript...</td>\n",
       "      <td>Res 32029;Approval of the Agenda;Call To Order...</td>\n",
       "    </tr>\n",
       "    <tr>\n",
       "      <th>507</th>\n",
       "      <td>cdp-seattle-21723dcf</td>\n",
       "      <td>f9bbf34ef7fe</td>\n",
       "      <td>4fa4155c9d49</td>\n",
       "      <td>cdp-minutes-item-generation-dataset/transcript...</td>\n",
       "      <td>Appt 01533;CALL TO ORDER;Appt 01534;Appt 01535...</td>\n",
       "    </tr>\n",
       "    <tr>\n",
       "      <th>237</th>\n",
       "      <td>cdp-seattle-21723dcf</td>\n",
       "      <td>775c091c365a</td>\n",
       "      <td>24d817c794f2</td>\n",
       "      <td>cdp-minutes-item-generation-dataset/transcript...</td>\n",
       "      <td>APPROVAL OF CONSENT CALENDAR;Min 379;ADJOURNME...</td>\n",
       "    </tr>\n",
       "  </tbody>\n",
       "</table>\n",
       "<p>200 rows × 5 columns</p>\n",
       "</div>"
      ],
      "text/plain": [
       "           infrastructure    session_id      event_id  \\\n",
       "273  cdp-seattle-21723dcf  884c13780b1d  7f5c5388633c   \n",
       "272  cdp-seattle-21723dcf  880bc2244617  bfc50250df4b   \n",
       "329  cdp-seattle-21723dcf  a7d9aa54081e  5d144a76c5fb   \n",
       "481  cdp-seattle-21723dcf  f16d100e510a  af7492eec004   \n",
       "173  cdp-seattle-21723dcf  59e82e951afe  924690a901d9   \n",
       "..                    ...           ...           ...   \n",
       "59   cdp-seattle-21723dcf  1ca25fd1350f  ee7672ff5985   \n",
       "120  cdp-seattle-21723dcf  3f46d6319e6f  b542150ecb3e   \n",
       "12   cdp-seattle-21723dcf  062f6b2b2003  79fb834ac65c   \n",
       "507  cdp-seattle-21723dcf  f9bbf34ef7fe  4fa4155c9d49   \n",
       "237  cdp-seattle-21723dcf  775c091c365a  24d817c794f2   \n",
       "\n",
       "                                       transcript_path  \\\n",
       "273  cdp-minutes-item-generation-dataset/transcript...   \n",
       "272  cdp-minutes-item-generation-dataset/transcript...   \n",
       "329  cdp-minutes-item-generation-dataset/transcript...   \n",
       "481  cdp-minutes-item-generation-dataset/transcript...   \n",
       "173  cdp-minutes-item-generation-dataset/transcript...   \n",
       "..                                                 ...   \n",
       "59   cdp-minutes-item-generation-dataset/transcript...   \n",
       "120  cdp-minutes-item-generation-dataset/transcript...   \n",
       "12   cdp-minutes-item-generation-dataset/transcript...   \n",
       "507  cdp-minutes-item-generation-dataset/transcript...   \n",
       "237  cdp-minutes-item-generation-dataset/transcript...   \n",
       "\n",
       "                                         minutes_items  \n",
       "273  Approval of the Minutes;President's Report;Sig...  \n",
       "272  CB 119831;Public Comment;Adjournment;Approval ...  \n",
       "329  Inf 1662;Public Comment;Session I - 10:00 a.m....  \n",
       "481  CB 119827;Inf 1677;Call To Order;Public Commen...  \n",
       "173  Inf 1962;Approval of the Agenda;Inf 1963;Publi...  \n",
       "..                                                 ...  \n",
       "59   Inf 1834;Public Comment;Adjournment;Approval o...  \n",
       "120  Appt 02183;Public Comment;Adjournment;Inf 2040...  \n",
       "12   Res 32029;Approval of the Agenda;Call To Order...  \n",
       "507  Appt 01533;CALL TO ORDER;Appt 01534;Appt 01535...  \n",
       "237  APPROVAL OF CONSENT CALENDAR;Min 379;ADJOURNME...  \n",
       "\n",
       "[200 rows x 5 columns]"
      ]
     },
     "execution_count": 22,
     "metadata": {},
     "output_type": "execute_result"
    }
   ],
   "source": [
    "# Selects a random sample\n",
    "sample = df.sample(n=200, random_state=1)\n",
    "sample[\"minutes_items\"] = sample.minutes_items.apply(lambda x: \";\".join(x))\n",
    "sample"
   ]
  },
  {
   "cell_type": "code",
   "execution_count": 23,
   "id": "cb15e95c-fa77-4ac9-9939-4aaa60a92845",
   "metadata": {},
   "outputs": [],
   "source": [
    "# 3. Split the selected subset into train, validation, and test splits\n",
    "from sklearn.model_selection import train_test_split"
   ]
  },
  {
   "cell_type": "code",
   "execution_count": 24,
   "id": "4480a937-f0e5-4865-a438-1cc933d0cdfe",
   "metadata": {},
   "outputs": [],
   "source": [
    "X = []\n",
    "y = []\n",
    "for index, row in sample.iterrows():\n",
    "    transcript_sentences = pd.read_csv(row.transcript_path)\n",
    "    text = transcript_sentences.text.str.cat(sep=' ')\n",
    "    X.append(text)\n",
    "    y.append(row.minutes_items)"
   ]
  },
  {
   "cell_type": "code",
   "execution_count": 27,
   "id": "fcf06053-368c-4091-ae1f-a57e71b11ad7",
   "metadata": {},
   "outputs": [],
   "source": [
    "X_train, X_rem, y_train, y_rem = train_test_split(X, y, test_size=0.2, random_state=42)"
   ]
  },
  {
   "cell_type": "code",
   "execution_count": 28,
   "id": "f85ebebf-878f-4159-96c2-bcdda0397b52",
   "metadata": {},
   "outputs": [],
   "source": [
    "test_size = 0.5\n",
    "X_valid, X_test, y_valid, y_test = train_test_split(X_rem,y_rem, test_size=0.5)"
   ]
  },
  {
   "cell_type": "code",
   "execution_count": 29,
   "id": "804739ac",
   "metadata": {},
   "outputs": [
    {
     "data": {
      "text/plain": [
       "DatasetDict({\n",
       "    train: Dataset({\n",
       "        features: ['minute_items', 'sentences'],\n",
       "        num_rows: 160\n",
       "    })\n",
       "    validation: Dataset({\n",
       "        features: ['minute_items', 'sentences'],\n",
       "        num_rows: 20\n",
       "    })\n",
       "    test: Dataset({\n",
       "        features: ['minute_items', 'sentences'],\n",
       "        num_rows: 20\n",
       "    })\n",
       "})"
      ]
     },
     "execution_count": 29,
     "metadata": {},
     "output_type": "execute_result"
    }
   ],
   "source": [
    "import datasets\n",
    "from datasets import Dataset\n",
    "train_df = pd.DataFrame({\n",
    "     \"minute_items\" : y_train,\n",
    "     \"sentences\" : X_train\n",
    "})\n",
    "\n",
    "validation_df = pd.DataFrame({\n",
    "     \"minute_items\" : y_valid,\n",
    "     \"sentences\" : X_valid\n",
    "})\n",
    "\n",
    "test_df = pd.DataFrame({\n",
    "     \"minute_items\" : y_test,\n",
    "     \"sentences\" : X_test\n",
    "})\n",
    "train_dataset = Dataset.from_dict(train_df)\n",
    "validation_dataset = Dataset.from_dict(validation_df)\n",
    "test_dataset = Dataset.from_dict(test_df)\n",
    "data = datasets.DatasetDict({\"train\":train_dataset, \"validation\": validation_dataset, \"test\":test_dataset})\n",
    "data"
   ]
  },
  {
   "cell_type": "code",
   "execution_count": 10,
   "id": "65a1e1f7-2e73-4e8e-84f9-cb8ce252c86c",
   "metadata": {},
   "outputs": [],
   "source": [
    "# 4. training using mT5"
   ]
  },
  {
   "cell_type": "markdown",
   "id": "0d8e37d9-8193-4aec-9c42-319f56efd12c",
   "metadata": {},
   "source": [
    "## Preprocessing the data"
   ]
  },
  {
   "cell_type": "code",
   "execution_count": 33,
   "id": "eb36faa5-9ec4-48bb-982d-9b116cf7783a",
   "metadata": {},
   "outputs": [
    {
     "ename": "TypeError",
     "evalue": "Couldn't build proto file into descriptor pool: duplicate file name (sentencepiece_model.proto)",
     "output_type": "error",
     "traceback": [
      "\u001b[0;31m---------------------------------------------------------------------------\u001b[0m",
      "\u001b[0;31mTypeError\u001b[0m                                 Traceback (most recent call last)",
      "Cell \u001b[0;32mIn[33], line 4\u001b[0m\n\u001b[1;32m      1\u001b[0m \u001b[39mfrom\u001b[39;00m \u001b[39mtransformers\u001b[39;00m \u001b[39mimport\u001b[39;00m AutoTokenizer\n\u001b[1;32m      3\u001b[0m model_checkpoint \u001b[39m=\u001b[39m \u001b[39m\"\u001b[39m\u001b[39mgoogle/mt5-small\u001b[39m\u001b[39m\"\u001b[39m\n\u001b[0;32m----> 4\u001b[0m tokenizer \u001b[39m=\u001b[39m AutoTokenizer\u001b[39m.\u001b[39;49mfrom_pretrained(model_checkpoint)\n",
      "File \u001b[0;32m~/opt/anaconda3/envs/cdp-minutes-item-generation-prototypes/lib/python3.9/site-packages/transformers/models/auto/tokenization_auto.py:658\u001b[0m, in \u001b[0;36mAutoTokenizer.from_pretrained\u001b[0;34m(cls, pretrained_model_name_or_path, *inputs, **kwargs)\u001b[0m\n\u001b[1;32m    654\u001b[0m     \u001b[39mif\u001b[39;00m tokenizer_class \u001b[39mis\u001b[39;00m \u001b[39mNone\u001b[39;00m:\n\u001b[1;32m    655\u001b[0m         \u001b[39mraise\u001b[39;00m \u001b[39mValueError\u001b[39;00m(\n\u001b[1;32m    656\u001b[0m             \u001b[39mf\u001b[39m\u001b[39m\"\u001b[39m\u001b[39mTokenizer class \u001b[39m\u001b[39m{\u001b[39;00mtokenizer_class_candidate\u001b[39m}\u001b[39;00m\u001b[39m does not exist or is not currently imported.\u001b[39m\u001b[39m\"\u001b[39m\n\u001b[1;32m    657\u001b[0m         )\n\u001b[0;32m--> 658\u001b[0m     \u001b[39mreturn\u001b[39;00m tokenizer_class\u001b[39m.\u001b[39;49mfrom_pretrained(pretrained_model_name_or_path, \u001b[39m*\u001b[39;49minputs, \u001b[39m*\u001b[39;49m\u001b[39m*\u001b[39;49mkwargs)\n\u001b[1;32m    660\u001b[0m \u001b[39m# Otherwise we have to be creative.\u001b[39;00m\n\u001b[1;32m    661\u001b[0m \u001b[39m# if model is an encoder decoder, the encoder tokenizer class is used by default\u001b[39;00m\n\u001b[1;32m    662\u001b[0m \u001b[39mif\u001b[39;00m \u001b[39misinstance\u001b[39m(config, EncoderDecoderConfig):\n",
      "File \u001b[0;32m~/opt/anaconda3/envs/cdp-minutes-item-generation-prototypes/lib/python3.9/site-packages/transformers/tokenization_utils_base.py:1804\u001b[0m, in \u001b[0;36mPreTrainedTokenizerBase.from_pretrained\u001b[0;34m(cls, pretrained_model_name_or_path, *init_inputs, **kwargs)\u001b[0m\n\u001b[1;32m   1801\u001b[0m     \u001b[39melse\u001b[39;00m:\n\u001b[1;32m   1802\u001b[0m         logger\u001b[39m.\u001b[39minfo(\u001b[39mf\u001b[39m\u001b[39m\"\u001b[39m\u001b[39mloading file \u001b[39m\u001b[39m{\u001b[39;00mfile_path\u001b[39m}\u001b[39;00m\u001b[39m from cache at \u001b[39m\u001b[39m{\u001b[39;00mresolved_vocab_files[file_id]\u001b[39m}\u001b[39;00m\u001b[39m\"\u001b[39m)\n\u001b[0;32m-> 1804\u001b[0m \u001b[39mreturn\u001b[39;00m \u001b[39mcls\u001b[39;49m\u001b[39m.\u001b[39;49m_from_pretrained(\n\u001b[1;32m   1805\u001b[0m     resolved_vocab_files,\n\u001b[1;32m   1806\u001b[0m     pretrained_model_name_or_path,\n\u001b[1;32m   1807\u001b[0m     init_configuration,\n\u001b[1;32m   1808\u001b[0m     \u001b[39m*\u001b[39;49minit_inputs,\n\u001b[1;32m   1809\u001b[0m     use_auth_token\u001b[39m=\u001b[39;49muse_auth_token,\n\u001b[1;32m   1810\u001b[0m     cache_dir\u001b[39m=\u001b[39;49mcache_dir,\n\u001b[1;32m   1811\u001b[0m     local_files_only\u001b[39m=\u001b[39;49mlocal_files_only,\n\u001b[1;32m   1812\u001b[0m     _commit_hash\u001b[39m=\u001b[39;49mcommit_hash,\n\u001b[1;32m   1813\u001b[0m     \u001b[39m*\u001b[39;49m\u001b[39m*\u001b[39;49mkwargs,\n\u001b[1;32m   1814\u001b[0m )\n",
      "File \u001b[0;32m~/opt/anaconda3/envs/cdp-minutes-item-generation-prototypes/lib/python3.9/site-packages/transformers/tokenization_utils_base.py:1959\u001b[0m, in \u001b[0;36mPreTrainedTokenizerBase._from_pretrained\u001b[0;34m(cls, resolved_vocab_files, pretrained_model_name_or_path, init_configuration, use_auth_token, cache_dir, local_files_only, _commit_hash, *init_inputs, **kwargs)\u001b[0m\n\u001b[1;32m   1957\u001b[0m \u001b[39m# Instantiate tokenizer.\u001b[39;00m\n\u001b[1;32m   1958\u001b[0m \u001b[39mtry\u001b[39;00m:\n\u001b[0;32m-> 1959\u001b[0m     tokenizer \u001b[39m=\u001b[39m \u001b[39mcls\u001b[39;49m(\u001b[39m*\u001b[39;49minit_inputs, \u001b[39m*\u001b[39;49m\u001b[39m*\u001b[39;49minit_kwargs)\n\u001b[1;32m   1960\u001b[0m \u001b[39mexcept\u001b[39;00m \u001b[39mOSError\u001b[39;00m:\n\u001b[1;32m   1961\u001b[0m     \u001b[39mraise\u001b[39;00m \u001b[39mOSError\u001b[39;00m(\n\u001b[1;32m   1962\u001b[0m         \u001b[39m\"\u001b[39m\u001b[39mUnable to load vocabulary from file. \u001b[39m\u001b[39m\"\u001b[39m\n\u001b[1;32m   1963\u001b[0m         \u001b[39m\"\u001b[39m\u001b[39mPlease check that the provided vocabulary is accessible and not corrupted.\u001b[39m\u001b[39m\"\u001b[39m\n\u001b[1;32m   1964\u001b[0m     )\n",
      "File \u001b[0;32m~/opt/anaconda3/envs/cdp-minutes-item-generation-prototypes/lib/python3.9/site-packages/transformers/models/t5/tokenization_t5_fast.py:133\u001b[0m, in \u001b[0;36mT5TokenizerFast.__init__\u001b[0;34m(self, vocab_file, tokenizer_file, eos_token, unk_token, pad_token, extra_ids, additional_special_tokens, **kwargs)\u001b[0m\n\u001b[1;32m    126\u001b[0m     \u001b[39mif\u001b[39;00m extra_tokens \u001b[39m!=\u001b[39m extra_ids:\n\u001b[1;32m    127\u001b[0m         \u001b[39mraise\u001b[39;00m \u001b[39mValueError\u001b[39;00m(\n\u001b[1;32m    128\u001b[0m             \u001b[39mf\u001b[39m\u001b[39m\"\u001b[39m\u001b[39mBoth extra_ids (\u001b[39m\u001b[39m{\u001b[39;00mextra_ids\u001b[39m}\u001b[39;00m\u001b[39m) and additional_special_tokens (\u001b[39m\u001b[39m{\u001b[39;00madditional_special_tokens\u001b[39m}\u001b[39;00m\u001b[39m) are\u001b[39m\u001b[39m\"\u001b[39m\n\u001b[1;32m    129\u001b[0m             \u001b[39m\"\u001b[39m\u001b[39m provided to T5Tokenizer. In this case the additional_special_tokens must include the extra_ids\u001b[39m\u001b[39m\"\u001b[39m\n\u001b[1;32m    130\u001b[0m             \u001b[39m\"\u001b[39m\u001b[39m tokens\u001b[39m\u001b[39m\"\u001b[39m\n\u001b[1;32m    131\u001b[0m         )\n\u001b[0;32m--> 133\u001b[0m \u001b[39msuper\u001b[39;49m()\u001b[39m.\u001b[39;49m\u001b[39m__init__\u001b[39;49m(\n\u001b[1;32m    134\u001b[0m     vocab_file,\n\u001b[1;32m    135\u001b[0m     tokenizer_file\u001b[39m=\u001b[39;49mtokenizer_file,\n\u001b[1;32m    136\u001b[0m     eos_token\u001b[39m=\u001b[39;49meos_token,\n\u001b[1;32m    137\u001b[0m     unk_token\u001b[39m=\u001b[39;49munk_token,\n\u001b[1;32m    138\u001b[0m     pad_token\u001b[39m=\u001b[39;49mpad_token,\n\u001b[1;32m    139\u001b[0m     extra_ids\u001b[39m=\u001b[39;49mextra_ids,\n\u001b[1;32m    140\u001b[0m     additional_special_tokens\u001b[39m=\u001b[39;49madditional_special_tokens,\n\u001b[1;32m    141\u001b[0m     \u001b[39m*\u001b[39;49m\u001b[39m*\u001b[39;49mkwargs,\n\u001b[1;32m    142\u001b[0m )\n\u001b[1;32m    144\u001b[0m \u001b[39mself\u001b[39m\u001b[39m.\u001b[39mvocab_file \u001b[39m=\u001b[39m vocab_file\n\u001b[1;32m    145\u001b[0m \u001b[39mself\u001b[39m\u001b[39m.\u001b[39mcan_save_slow_tokenizer \u001b[39m=\u001b[39m \u001b[39mFalse\u001b[39;00m \u001b[39mif\u001b[39;00m \u001b[39mnot\u001b[39;00m \u001b[39mself\u001b[39m\u001b[39m.\u001b[39mvocab_file \u001b[39melse\u001b[39;00m \u001b[39mTrue\u001b[39;00m\n",
      "File \u001b[0;32m~/opt/anaconda3/envs/cdp-minutes-item-generation-prototypes/lib/python3.9/site-packages/transformers/tokenization_utils_fast.py:114\u001b[0m, in \u001b[0;36mPreTrainedTokenizerFast.__init__\u001b[0;34m(self, *args, **kwargs)\u001b[0m\n\u001b[1;32m    111\u001b[0m     fast_tokenizer \u001b[39m=\u001b[39m TokenizerFast\u001b[39m.\u001b[39mfrom_file(fast_tokenizer_file)\n\u001b[1;32m    112\u001b[0m \u001b[39melif\u001b[39;00m slow_tokenizer \u001b[39mis\u001b[39;00m \u001b[39mnot\u001b[39;00m \u001b[39mNone\u001b[39;00m:\n\u001b[1;32m    113\u001b[0m     \u001b[39m# We need to convert a slow tokenizer to build the backend\u001b[39;00m\n\u001b[0;32m--> 114\u001b[0m     fast_tokenizer \u001b[39m=\u001b[39m convert_slow_tokenizer(slow_tokenizer)\n\u001b[1;32m    115\u001b[0m \u001b[39melif\u001b[39;00m \u001b[39mself\u001b[39m\u001b[39m.\u001b[39mslow_tokenizer_class \u001b[39mis\u001b[39;00m \u001b[39mnot\u001b[39;00m \u001b[39mNone\u001b[39;00m:\n\u001b[1;32m    116\u001b[0m     \u001b[39m# We need to create and convert a slow tokenizer to build the backend\u001b[39;00m\n\u001b[1;32m    117\u001b[0m     slow_tokenizer \u001b[39m=\u001b[39m \u001b[39mself\u001b[39m\u001b[39m.\u001b[39mslow_tokenizer_class(\u001b[39m*\u001b[39margs, \u001b[39m*\u001b[39m\u001b[39m*\u001b[39mkwargs)\n",
      "File \u001b[0;32m~/opt/anaconda3/envs/cdp-minutes-item-generation-prototypes/lib/python3.9/site-packages/transformers/convert_slow_tokenizer.py:1162\u001b[0m, in \u001b[0;36mconvert_slow_tokenizer\u001b[0;34m(transformer_tokenizer)\u001b[0m\n\u001b[1;32m   1154\u001b[0m     \u001b[39mraise\u001b[39;00m \u001b[39mValueError\u001b[39;00m(\n\u001b[1;32m   1155\u001b[0m         \u001b[39mf\u001b[39m\u001b[39m\"\u001b[39m\u001b[39mAn instance of tokenizer class \u001b[39m\u001b[39m{\u001b[39;00mtokenizer_class_name\u001b[39m}\u001b[39;00m\u001b[39m cannot be converted in a Fast tokenizer instance.\u001b[39m\u001b[39m\"\u001b[39m\n\u001b[1;32m   1156\u001b[0m         \u001b[39m\"\u001b[39m\u001b[39m No converter was found. Currently available slow->fast convertors:\u001b[39m\u001b[39m\"\u001b[39m\n\u001b[1;32m   1157\u001b[0m         \u001b[39mf\u001b[39m\u001b[39m\"\u001b[39m\u001b[39m \u001b[39m\u001b[39m{\u001b[39;00m\u001b[39mlist\u001b[39m(SLOW_TO_FAST_CONVERTERS\u001b[39m.\u001b[39mkeys())\u001b[39m}\u001b[39;00m\u001b[39m\"\u001b[39m\n\u001b[1;32m   1158\u001b[0m     )\n\u001b[1;32m   1160\u001b[0m converter_class \u001b[39m=\u001b[39m SLOW_TO_FAST_CONVERTERS[tokenizer_class_name]\n\u001b[0;32m-> 1162\u001b[0m \u001b[39mreturn\u001b[39;00m converter_class(transformer_tokenizer)\u001b[39m.\u001b[39mconverted()\n",
      "File \u001b[0;32m~/opt/anaconda3/envs/cdp-minutes-item-generation-prototypes/lib/python3.9/site-packages/transformers/convert_slow_tokenizer.py:438\u001b[0m, in \u001b[0;36mSpmConverter.__init__\u001b[0;34m(self, *args)\u001b[0m\n\u001b[1;32m    434\u001b[0m requires_backends(\u001b[39mself\u001b[39m, \u001b[39m\"\u001b[39m\u001b[39mprotobuf\u001b[39m\u001b[39m\"\u001b[39m)\n\u001b[1;32m    436\u001b[0m \u001b[39msuper\u001b[39m()\u001b[39m.\u001b[39m\u001b[39m__init__\u001b[39m(\u001b[39m*\u001b[39margs)\n\u001b[0;32m--> 438\u001b[0m \u001b[39mfrom\u001b[39;00m \u001b[39m.\u001b[39;00m\u001b[39mutils\u001b[39;00m \u001b[39mimport\u001b[39;00m sentencepiece_model_pb2 \u001b[39mas\u001b[39;00m model_pb2\n\u001b[1;32m    440\u001b[0m m \u001b[39m=\u001b[39m model_pb2\u001b[39m.\u001b[39mModelProto()\n\u001b[1;32m    441\u001b[0m \u001b[39mwith\u001b[39;00m \u001b[39mopen\u001b[39m(\u001b[39mself\u001b[39m\u001b[39m.\u001b[39moriginal_tokenizer\u001b[39m.\u001b[39mvocab_file, \u001b[39m\"\u001b[39m\u001b[39mrb\u001b[39m\u001b[39m\"\u001b[39m) \u001b[39mas\u001b[39;00m f:\n",
      "File \u001b[0;32m~/opt/anaconda3/envs/cdp-minutes-item-generation-prototypes/lib/python3.9/site-packages/transformers/utils/sentencepiece_model_pb2.py:29\u001b[0m\n\u001b[1;32m     24\u001b[0m \u001b[39m# @@protoc_insertion_point(imports)\u001b[39;00m\n\u001b[1;32m     26\u001b[0m _sym_db \u001b[39m=\u001b[39m _symbol_database\u001b[39m.\u001b[39mDefault()\n\u001b[0;32m---> 29\u001b[0m DESCRIPTOR \u001b[39m=\u001b[39m _descriptor\u001b[39m.\u001b[39;49mFileDescriptor(\n\u001b[1;32m     30\u001b[0m     name\u001b[39m=\u001b[39;49m\u001b[39m\"\u001b[39;49m\u001b[39msentencepiece_model.proto\u001b[39;49m\u001b[39m\"\u001b[39;49m,\n\u001b[1;32m     31\u001b[0m     package\u001b[39m=\u001b[39;49m\u001b[39m\"\u001b[39;49m\u001b[39msentencepiece\u001b[39;49m\u001b[39m\"\u001b[39;49m,\n\u001b[1;32m     32\u001b[0m     syntax\u001b[39m=\u001b[39;49m\u001b[39m\"\u001b[39;49m\u001b[39mproto2\u001b[39;49m\u001b[39m\"\u001b[39;49m,\n\u001b[1;32m     33\u001b[0m     serialized_options\u001b[39m=\u001b[39;49m\u001b[39mb\u001b[39;49m\u001b[39m\"\u001b[39;49m\u001b[39mH\u001b[39;49m\u001b[39m\\003\u001b[39;49;00m\u001b[39m\"\u001b[39;49m,\n\u001b[1;32m     34\u001b[0m     create_key\u001b[39m=\u001b[39;49m_descriptor\u001b[39m.\u001b[39;49m_internal_create_key,\n\u001b[1;32m     35\u001b[0m     serialized_pb\u001b[39m=\u001b[39;49m(\n\u001b[1;32m     36\u001b[0m         \u001b[39mb\u001b[39;49m\u001b[39m'\u001b[39;49m\u001b[39m\\n\u001b[39;49;00m\u001b[39m\\x19\u001b[39;49;00m\u001b[39msentencepiece_model.proto\u001b[39;49m\u001b[39m\\x12\u001b[39;49;00m\u001b[39m\\r\u001b[39;49;00m\u001b[39msentencepiece\u001b[39;49m\u001b[39m\"\u001b[39;49m\u001b[39m\\xa1\u001b[39;49;00m\u001b[39m\\n\u001b[39;49;00m\u001b[39m\\n\u001b[39;49;00m\u001b[39m\\x0b\u001b[39;49;00m\u001b[39mTrainerSpec\u001b[39;49m\u001b[39m\\x12\u001b[39;49;00m\u001b[39m\\r\u001b[39;49;00m\u001b[39m\\n\u001b[39;49;00m\u001b[39m\\x05\u001b[39;49;00m\u001b[39minput\u001b[39;49m\u001b[39m\\x18\u001b[39;49;00m\u001b[39m\\x01\u001b[39;49;00m\u001b[39m'\u001b[39;49m\n\u001b[1;32m     37\u001b[0m         \u001b[39mb\u001b[39;49m\u001b[39m\"\u001b[39;49m\u001b[39m \u001b[39;49m\u001b[39m\\x03\u001b[39;49;00m\u001b[39m(\u001b[39;49m\u001b[39m\\t\u001b[39;49;00m\u001b[39m\\x12\u001b[39;49;00m\u001b[39m\\x14\u001b[39;49;00m\u001b[39m\\n\u001b[39;49;00m\u001b[39m\\x0c\u001b[39;49;00m\u001b[39minput_format\u001b[39;49m\u001b[39m\\x18\u001b[39;49;00m\u001b[39m\\x07\u001b[39;49;00m\u001b[39m \u001b[39;49m\u001b[39m\\x01\u001b[39;49;00m\u001b[39m(\u001b[39;49m\u001b[39m\\t\u001b[39;49;00m\u001b[39m\\x12\u001b[39;49;00m\u001b[39m\\x14\u001b[39;49;00m\u001b[39m\\n\u001b[39;49;00m\u001b[39m\\x0c\u001b[39;49;00m\u001b[39mmodel_prefix\u001b[39;49m\u001b[39m\\x18\u001b[39;49;00m\u001b[39m\\x02\u001b[39;49;00m\u001b[39m\"\u001b[39;49m\n\u001b[1;32m     38\u001b[0m         \u001b[39mb\u001b[39;49m\u001b[39m\"\u001b[39;49m\u001b[39m \u001b[39;49m\u001b[39m\\x01\u001b[39;49;00m\u001b[39m(\u001b[39;49m\u001b[39m\\t\u001b[39;49;00m\u001b[39m\\x12\u001b[39;49;00m\u001b[39m\\x41\u001b[39;49;00m\u001b[39m\\n\u001b[39;49;00m\u001b[39m\\n\u001b[39;49;00m\u001b[39mmodel_type\u001b[39;49m\u001b[39m\\x18\u001b[39;49;00m\u001b[39m\\x03\u001b[39;49;00m\u001b[39m\"\u001b[39;49m\n\u001b[1;32m     39\u001b[0m         \u001b[39mb\u001b[39;49m\u001b[39m\"\u001b[39;49m\u001b[39m \u001b[39;49m\u001b[39m\\x01\u001b[39;49;00m\u001b[39m(\u001b[39;49m\u001b[39m\\x0e\u001b[39;49;00m\u001b[39m\\x32\u001b[39;49;00m\u001b[39m$.sentencepiece.TrainerSpec.ModelType:\u001b[39;49m\u001b[39m\\x07\u001b[39;49;00m\u001b[39mUNIGRAM\u001b[39;49m\u001b[39m\\x12\u001b[39;49;00m\u001b[39m\\x18\u001b[39;49;00m\u001b[39m\\n\u001b[39;49;00m\u001b[39m\\n\u001b[39;49;00m\u001b[39mvocab_size\u001b[39;49m\u001b[39m\\x18\u001b[39;49;00m\u001b[39m\\x04\u001b[39;49;00m\u001b[39m\"\u001b[39;49m\n\u001b[1;32m     40\u001b[0m         \u001b[39mb\u001b[39;49m\u001b[39m\"\u001b[39;49m\u001b[39m \u001b[39;49m\u001b[39m\\x01\u001b[39;49;00m\u001b[39m(\u001b[39;49m\u001b[39m\\x05\u001b[39;49;00m\u001b[39m:\u001b[39;49m\u001b[39m\\x04\u001b[39;49;00m\u001b[39m\\x38\u001b[39;49;00m\u001b[39m\\x30\u001b[39;49;00m\u001b[39m\\x30\u001b[39;49;00m\u001b[39m\\x30\u001b[39;49;00m\u001b[39m\\x12\u001b[39;49;00m\u001b[39m\\x17\u001b[39;49;00m\u001b[39m\\n\u001b[39;49;00m\u001b[39m\\x0f\u001b[39;49;00m\u001b[39m\\x61\u001b[39;49;00m\u001b[39m\\x63\u001b[39;49;00m\u001b[39m\\x63\u001b[39;49;00m\u001b[39m\\x65\u001b[39;49;00m\u001b[39mpt_language\u001b[39;49m\u001b[39m\\x18\u001b[39;49;00m\u001b[39m\\x05\u001b[39;49;00m\u001b[39m \u001b[39;49m\u001b[39m\\x03\u001b[39;49;00m\u001b[39m(\u001b[39;49m\u001b[39m\\t\u001b[39;49;00m\u001b[39m\\x12\u001b[39;49;00m\u001b[39m\"\u001b[39;49m\n\u001b[1;32m     41\u001b[0m         \u001b[39mb\u001b[39;49m\u001b[39m'\u001b[39;49m\u001b[39m \u001b[39;49m\u001b[39m\\n\u001b[39;49;00m\u001b[39m\\x15\u001b[39;49;00m\u001b[39mself_test_sample_size\u001b[39;49m\u001b[39m\\x18\u001b[39;49;00m\u001b[39m\\x06\u001b[39;49;00m\u001b[39m \u001b[39;49m\u001b[39m\\x01\u001b[39;49;00m\u001b[39m(\u001b[39;49m\u001b[39m\\x05\u001b[39;49;00m\u001b[39m:\u001b[39;49m\u001b[39m\\x01\u001b[39;49;00m\u001b[39m\\x30\u001b[39;49;00m\u001b[39m\\x12\u001b[39;49;00m\u001b[39m\"\u001b[39;49m\u001b[39m\\n\u001b[39;49;00m\u001b[39m\\x12\u001b[39;49;00m\u001b[39m\\x63\u001b[39;49;00m\u001b[39mharacter_coverage\u001b[39;49m\u001b[39m\\x18\u001b[39;49;00m\u001b[39m\\n\u001b[39;49;00m\u001b[39m'\u001b[39;49m\n\u001b[1;32m     42\u001b[0m         \u001b[39mb\u001b[39;49m\u001b[39m\"\u001b[39;49m\u001b[39m \u001b[39;49m\u001b[39m\\x01\u001b[39;49;00m\u001b[39m(\u001b[39;49m\u001b[39m\\x02\u001b[39;49;00m\u001b[39m:\u001b[39;49m\u001b[39m\\x06\u001b[39;49;00m\u001b[39m\\x30\u001b[39;49;00m\u001b[39m.9995\u001b[39;49m\u001b[39m\\x12\u001b[39;49;00m\u001b[39m\\x1e\u001b[39;49;00m\u001b[39m\\n\u001b[39;49;00m\u001b[39m\\x13\u001b[39;49;00m\u001b[39minput_sentence_size\u001b[39;49m\u001b[39m\\x18\u001b[39;49;00m\u001b[39m\\x0b\u001b[39;49;00m\u001b[39m\"\u001b[39;49m\n\u001b[1;32m     43\u001b[0m         \u001b[39mb\u001b[39;49m\u001b[39m\"\u001b[39;49m\u001b[39m \u001b[39;49m\u001b[39m\\x01\u001b[39;49;00m\u001b[39m(\u001b[39;49m\u001b[39m\\x04\u001b[39;49;00m\u001b[39m:\u001b[39;49m\u001b[39m\\x01\u001b[39;49;00m\u001b[39m\\x30\u001b[39;49;00m\u001b[39m\\x12\u001b[39;49;00m\u001b[39m$\u001b[39;49m\u001b[39m\\n\u001b[39;49;00m\u001b[39m\\x16\u001b[39;49;00m\u001b[39mshuffle_input_sentence\u001b[39;49m\u001b[39m\\x18\u001b[39;49;00m\u001b[39m\\x13\u001b[39;49;00m\u001b[39m \u001b[39;49m\u001b[39m\\x01\u001b[39;49;00m\u001b[39m(\u001b[39;49m\u001b[39m\\x08\u001b[39;49;00m\u001b[39m:\u001b[39;49m\u001b[39m\\x04\u001b[39;49;00m\u001b[39mtrue\u001b[39;49m\u001b[39m\\x12\u001b[39;49;00m\u001b[39m\"\u001b[39;49m\n\u001b[1;32m     44\u001b[0m         \u001b[39mb\u001b[39;49m\u001b[39m'\u001b[39;49m\u001b[39m \u001b[39;49m\u001b[39m\\n\u001b[39;49;00m\u001b[39m\\x14\u001b[39;49;00m\u001b[39mmining_sentence_size\u001b[39;49m\u001b[39m\\x18\u001b[39;49;00m\u001b[39m\\x0c\u001b[39;49;00m\u001b[39m \u001b[39;49m\u001b[39m\\x01\u001b[39;49;00m\u001b[39m(\u001b[39;49m\u001b[39m\\x05\u001b[39;49;00m\u001b[39m\\x42\u001b[39;49;00m\u001b[39m\\x02\u001b[39;49;00m\u001b[39m\\x18\u001b[39;49;00m\u001b[39m\\x01\u001b[39;49;00m\u001b[39m\\x12\u001b[39;49;00m\u001b[39m\"\u001b[39;49m\u001b[39m\\n\u001b[39;49;00m\u001b[39m\\x16\u001b[39;49;00m\u001b[39mtraining_sentence_size\u001b[39;49m\u001b[39m\\x18\u001b[39;49;00m\u001b[39m\\r\u001b[39;49;00m\u001b[39m'\u001b[39;49m\n\u001b[1;32m     45\u001b[0m         \u001b[39mb\u001b[39;49m\u001b[39m\"\u001b[39;49m\u001b[39m \u001b[39;49m\u001b[39m\\x01\u001b[39;49;00m\u001b[39m(\u001b[39;49m\u001b[39m\\x05\u001b[39;49;00m\u001b[39m\\x42\u001b[39;49;00m\u001b[39m\\x02\u001b[39;49;00m\u001b[39m\\x18\u001b[39;49;00m\u001b[39m\\x01\u001b[39;49;00m\u001b[39m\\x12\u001b[39;49;00m\u001b[39m(\u001b[39;49m\u001b[39m\\n\u001b[39;49;00m\u001b[39m\\x17\u001b[39;49;00m\u001b[39mseed_sentencepiece_size\u001b[39;49m\u001b[39m\\x18\u001b[39;49;00m\u001b[39m\\x0e\u001b[39;49;00m\u001b[39m\"\u001b[39;49m\n\u001b[1;32m     46\u001b[0m         \u001b[39mb\u001b[39;49m\u001b[39m\"\u001b[39;49m\u001b[39m \u001b[39;49m\u001b[39m\\x01\u001b[39;49;00m\u001b[39m(\u001b[39;49m\u001b[39m\\x05\u001b[39;49;00m\u001b[39m:\u001b[39;49m\u001b[39m\\x07\u001b[39;49;00m\u001b[39m\\x31\u001b[39;49;00m\u001b[39m\\x30\u001b[39;49;00m\u001b[39m\\x30\u001b[39;49;00m\u001b[39m\\x30\u001b[39;49;00m\u001b[39m\\x30\u001b[39;49;00m\u001b[39m\\x30\u001b[39;49;00m\u001b[39m\\x30\u001b[39;49;00m\u001b[39m\\x12\u001b[39;49;00m\u001b[39m\\x1e\u001b[39;49;00m\u001b[39m\\n\u001b[39;49;00m\u001b[39m\\x10\u001b[39;49;00m\u001b[39mshrinking_factor\u001b[39;49m\u001b[39m\\x18\u001b[39;49;00m\u001b[39m\\x0f\u001b[39;49;00m\u001b[39m\"\u001b[39;49m\n\u001b[1;32m     47\u001b[0m         \u001b[39mb\u001b[39;49m\u001b[39m\"\u001b[39;49m\u001b[39m \u001b[39;49m\u001b[39m\\x01\u001b[39;49;00m\u001b[39m(\u001b[39;49m\u001b[39m\\x02\u001b[39;49;00m\u001b[39m:\u001b[39;49m\u001b[39m\\x04\u001b[39;49;00m\u001b[39m\\x30\u001b[39;49;00m\u001b[39m.75\u001b[39;49m\u001b[39m\\x12\u001b[39;49;00m\u001b[39m!\u001b[39;49m\u001b[39m\\n\u001b[39;49;00m\u001b[39m\\x13\u001b[39;49;00m\u001b[39mmax_sentence_length\u001b[39;49m\u001b[39m\\x18\u001b[39;49;00m\u001b[39m\\x12\u001b[39;49;00m\u001b[39m\"\u001b[39;49m\n\u001b[1;32m     48\u001b[0m         \u001b[39mb\u001b[39;49m\u001b[39m\"\u001b[39;49m\u001b[39m \u001b[39;49m\u001b[39m\\x01\u001b[39;49;00m\u001b[39m(\u001b[39;49m\u001b[39m\\x05\u001b[39;49;00m\u001b[39m:\u001b[39;49m\u001b[39m\\x04\u001b[39;49;00m\u001b[39m\\x34\u001b[39;49;00m\u001b[39m\\x31\u001b[39;49;00m\u001b[39m\\x39\u001b[39;49;00m\u001b[39m\\x32\u001b[39;49;00m\u001b[39m\\x12\u001b[39;49;00m\u001b[39m\\x17\u001b[39;49;00m\u001b[39m\\n\u001b[39;49;00m\u001b[39m\\x0b\u001b[39;49;00m\u001b[39mnum_threads\u001b[39;49m\u001b[39m\\x18\u001b[39;49;00m\u001b[39m\\x10\u001b[39;49;00m\u001b[39m\"\u001b[39;49m\n\u001b[1;32m     49\u001b[0m         \u001b[39mb\u001b[39;49m\u001b[39m\"\u001b[39;49m\u001b[39m \u001b[39;49m\u001b[39m\\x01\u001b[39;49;00m\u001b[39m(\u001b[39;49m\u001b[39m\\x05\u001b[39;49;00m\u001b[39m:\u001b[39;49m\u001b[39m\\x02\u001b[39;49;00m\u001b[39m\\x31\u001b[39;49;00m\u001b[39m\\x36\u001b[39;49;00m\u001b[39m\\x12\u001b[39;49;00m\u001b[39m\\x1d\u001b[39;49;00m\u001b[39m\\n\u001b[39;49;00m\u001b[39m\\x12\u001b[39;49;00m\u001b[39mnum_sub_iterations\u001b[39;49m\u001b[39m\\x18\u001b[39;49;00m\u001b[39m\\x11\u001b[39;49;00m\u001b[39m\"\u001b[39;49m\n\u001b[1;32m     50\u001b[0m         \u001b[39mb\u001b[39;49m\u001b[39m\"\u001b[39;49m\u001b[39m \u001b[39;49m\u001b[39m\\x01\u001b[39;49;00m\u001b[39m(\u001b[39;49m\u001b[39m\\x05\u001b[39;49;00m\u001b[39m:\u001b[39;49m\u001b[39m\\x01\u001b[39;49;00m\u001b[39m\\x32\u001b[39;49;00m\u001b[39m\\x12\u001b[39;49;00m\u001b[39m$\u001b[39;49m\u001b[39m\\n\u001b[39;49;00m\u001b[39m\\x18\u001b[39;49;00m\u001b[39mmax_sentencepiece_length\u001b[39;49m\u001b[39m\\x18\u001b[39;49;00m\u001b[39m\\x14\u001b[39;49;00m\u001b[39m\"\u001b[39;49m\n\u001b[1;32m     51\u001b[0m         \u001b[39mb\u001b[39;49m\u001b[39m\"\u001b[39;49m\u001b[39m \u001b[39;49m\u001b[39m\\x01\u001b[39;49;00m\u001b[39m(\u001b[39;49m\u001b[39m\\x05\u001b[39;49;00m\u001b[39m:\u001b[39;49m\u001b[39m\\x02\u001b[39;49;00m\u001b[39m\\x31\u001b[39;49;00m\u001b[39m\\x36\u001b[39;49;00m\u001b[39m\\x12\u001b[39;49;00m\u001b[39m%\u001b[39;49m\u001b[39m\\n\u001b[39;49;00m\u001b[39m\\x17\u001b[39;49;00m\u001b[39msplit_by_unicode_script\u001b[39;49m\u001b[39m\\x18\u001b[39;49;00m\u001b[39m\\x15\u001b[39;49;00m\u001b[39m\"\u001b[39;49m\n\u001b[1;32m     52\u001b[0m         \u001b[39mb\u001b[39;49m\u001b[39m\"\u001b[39;49m\u001b[39m \u001b[39;49m\u001b[39m\\x01\u001b[39;49;00m\u001b[39m(\u001b[39;49m\u001b[39m\\x08\u001b[39;49;00m\u001b[39m:\u001b[39;49m\u001b[39m\\x04\u001b[39;49;00m\u001b[39mtrue\u001b[39;49m\u001b[39m\\x12\u001b[39;49;00m\u001b[39m\\x1d\u001b[39;49;00m\u001b[39m\\n\u001b[39;49;00m\u001b[39m\\x0f\u001b[39;49;00m\u001b[39msplit_by_number\u001b[39;49m\u001b[39m\\x18\u001b[39;49;00m\u001b[39m\\x17\u001b[39;49;00m\u001b[39m\"\u001b[39;49m\n\u001b[1;32m     53\u001b[0m         \u001b[39mb\u001b[39;49m\u001b[39m\"\u001b[39;49m\u001b[39m \u001b[39;49m\u001b[39m\\x01\u001b[39;49;00m\u001b[39m(\u001b[39;49m\u001b[39m\\x08\u001b[39;49;00m\u001b[39m:\u001b[39;49m\u001b[39m\\x04\u001b[39;49;00m\u001b[39mtrue\u001b[39;49m\u001b[39m\\x12\u001b[39;49;00m\u001b[39m!\u001b[39;49m\u001b[39m\\n\u001b[39;49;00m\u001b[39m\\x13\u001b[39;49;00m\u001b[39msplit_by_whitespace\u001b[39;49m\u001b[39m\\x18\u001b[39;49;00m\u001b[39m\\x16\u001b[39;49;00m\u001b[39m\"\u001b[39;49m\n\u001b[1;32m     54\u001b[0m         \u001b[39mb\u001b[39;49m\u001b[39m\"\u001b[39;49m\u001b[39m \u001b[39;49m\u001b[39m\\x01\u001b[39;49;00m\u001b[39m(\u001b[39;49m\u001b[39m\\x08\u001b[39;49;00m\u001b[39m:\u001b[39;49m\u001b[39m\\x04\u001b[39;49;00m\u001b[39mtrue\u001b[39;49m\u001b[39m\\x12\u001b[39;49;00m\u001b[39m)\u001b[39;49m\u001b[39m\\n\u001b[39;49;00m\u001b[39m\\x1a\u001b[39;49;00m\u001b[39mtreat_whitespace_as_suffix\u001b[39;49m\u001b[39m\\x18\u001b[39;49;00m\u001b[39m\\x18\u001b[39;49;00m\u001b[39m\"\u001b[39;49m\n\u001b[1;32m     55\u001b[0m         \u001b[39mb\u001b[39;49m\u001b[39m\"\u001b[39;49m\u001b[39m \u001b[39;49m\u001b[39m\\x01\u001b[39;49;00m\u001b[39m(\u001b[39;49m\u001b[39m\\x08\u001b[39;49;00m\u001b[39m:\u001b[39;49m\u001b[39m\\x05\u001b[39;49;00m\u001b[39m\\x66\u001b[39;49;00m\u001b[39m\\x61\u001b[39;49;00m\u001b[39mlse\u001b[39;49m\u001b[39m\\x12\u001b[39;49;00m\u001b[39m\\x1b\u001b[39;49;00m\u001b[39m\\n\u001b[39;49;00m\u001b[39m\\x0c\u001b[39;49;00m\u001b[39msplit_digits\u001b[39;49m\u001b[39m\\x18\u001b[39;49;00m\u001b[39m\\x19\u001b[39;49;00m\u001b[39m\"\u001b[39;49m\n\u001b[1;32m     56\u001b[0m         \u001b[39mb\u001b[39;49m\u001b[39m\"\u001b[39;49m\u001b[39m \u001b[39;49m\u001b[39m\\x01\u001b[39;49;00m\u001b[39m(\u001b[39;49m\u001b[39m\\x08\u001b[39;49;00m\u001b[39m:\u001b[39;49m\u001b[39m\\x05\u001b[39;49;00m\u001b[39m\\x66\u001b[39;49;00m\u001b[39m\\x61\u001b[39;49;00m\u001b[39mlse\u001b[39;49m\u001b[39m\\x12\u001b[39;49;00m\u001b[39m\\x17\u001b[39;49;00m\u001b[39m\\n\u001b[39;49;00m\u001b[39m\\x0f\u001b[39;49;00m\u001b[39m\\x63\u001b[39;49;00m\u001b[39montrol_symbols\u001b[39;49m\u001b[39m\\x18\u001b[39;49;00m\u001b[39m\\x1e\u001b[39;49;00m\u001b[39m\"\u001b[39;49m\n\u001b[1;32m     57\u001b[0m         \u001b[39mb\u001b[39;49m\u001b[39m\"\u001b[39;49m\u001b[39m \u001b[39;49m\u001b[39m\\x03\u001b[39;49;00m\u001b[39m(\u001b[39;49m\u001b[39m\\t\u001b[39;49;00m\u001b[39m\\x12\u001b[39;49;00m\u001b[39m\\x1c\u001b[39;49;00m\u001b[39m\\n\u001b[39;49;00m\u001b[39m\\x14\u001b[39;49;00m\u001b[39muser_defined_symbols\u001b[39;49m\u001b[39m\\x18\u001b[39;49;00m\u001b[39m\\x1f\u001b[39;49;00m\u001b[39m \u001b[39;49m\u001b[39m\\x03\u001b[39;49;00m\u001b[39m(\u001b[39;49m\u001b[39m\\t\u001b[39;49;00m\u001b[39m\\x12\u001b[39;49;00m\u001b[39m\\x16\u001b[39;49;00m\u001b[39m\\n\u001b[39;49;00m\u001b[39m\\x0e\u001b[39;49;00m\u001b[39mrequired_chars\u001b[39;49m\u001b[39m\\x18\u001b[39;49;00m\u001b[39m$\u001b[39;49m\u001b[39m\"\u001b[39;49m\n\u001b[1;32m     58\u001b[0m         \u001b[39mb\u001b[39;49m\u001b[39m\"\u001b[39;49m\u001b[39m \u001b[39;49m\u001b[39m\\x01\u001b[39;49;00m\u001b[39m(\u001b[39;49m\u001b[39m\\t\u001b[39;49;00m\u001b[39m\\x12\u001b[39;49;00m\u001b[39m\\x1c\u001b[39;49;00m\u001b[39m\\n\u001b[39;49;00m\u001b[39m\\r\u001b[39;49;00m\u001b[39mbyte_fallback\u001b[39;49m\u001b[39m\\x18\u001b[39;49;00m\u001b[39m# \u001b[39;49m\u001b[39m\\x01\u001b[39;49;00m\u001b[39m(\u001b[39;49m\u001b[39m\\x08\u001b[39;49;00m\u001b[39m:\u001b[39;49m\u001b[39m\\x05\u001b[39;49;00m\u001b[39m\\x66\u001b[39;49;00m\u001b[39m\\x61\u001b[39;49;00m\u001b[39mlse\u001b[39;49m\u001b[39m\\x12\u001b[39;49;00m\u001b[39m+\u001b[39;49m\u001b[39m\\n\u001b[39;49;00m\u001b[39m\\x1d\u001b[39;49;00m\u001b[39mvocabulary_output_piece_score\u001b[39;49m\u001b[39m\\x18\u001b[39;49;00m\u001b[39m\"\u001b[39;49m\n\u001b[1;32m     59\u001b[0m         \u001b[39mb\u001b[39;49m\u001b[39m'\u001b[39;49m\u001b[39m  \u001b[39;49m\u001b[39m\\x01\u001b[39;49;00m\u001b[39m(\u001b[39;49m\u001b[39m\\x08\u001b[39;49;00m\u001b[39m:\u001b[39;49m\u001b[39m\\x04\u001b[39;49;00m\u001b[39mtrue\u001b[39;49m\u001b[39m\\x12\u001b[39;49;00m\u001b[39m\\x1e\u001b[39;49;00m\u001b[39m\\n\u001b[39;49;00m\u001b[39m\\x10\u001b[39;49;00m\u001b[39mhard_vocab_limit\u001b[39;49m\u001b[39m\\x18\u001b[39;49;00m\u001b[39m! \u001b[39;49m\u001b[39m\\x01\u001b[39;49;00m\u001b[39m(\u001b[39;49m\u001b[39m\\x08\u001b[39;49;00m\u001b[39m:\u001b[39;49m\u001b[39m\\x04\u001b[39;49;00m\u001b[39mtrue\u001b[39;49m\u001b[39m\\x12\u001b[39;49;00m\u001b[39m\\x1c\u001b[39;49;00m\u001b[39m\\n\u001b[39;49;00m\u001b[39m\\r\u001b[39;49;00m\u001b[39muse_all_vocab\u001b[39;49m\u001b[39m\\x18\u001b[39;49;00m\u001b[39m\"\u001b[39;49m\u001b[39m'\u001b[39;49m\n\u001b[1;32m     60\u001b[0m         \u001b[39mb\u001b[39;49m\u001b[39m\"\u001b[39;49m\u001b[39m \u001b[39;49m\u001b[39m\\x01\u001b[39;49;00m\u001b[39m(\u001b[39;49m\u001b[39m\\x08\u001b[39;49;00m\u001b[39m:\u001b[39;49m\u001b[39m\\x05\u001b[39;49;00m\u001b[39m\\x66\u001b[39;49;00m\u001b[39m\\x61\u001b[39;49;00m\u001b[39mlse\u001b[39;49m\u001b[39m\\x12\u001b[39;49;00m\u001b[39m\\x11\u001b[39;49;00m\u001b[39m\\n\u001b[39;49;00m\u001b[39m\\x06\u001b[39;49;00m\u001b[39munk_id\u001b[39;49m\u001b[39m\\x18\u001b[39;49;00m\u001b[39m( \u001b[39;49m\u001b[39m\\x01\u001b[39;49;00m\u001b[39m(\u001b[39;49m\u001b[39m\\x05\u001b[39;49;00m\u001b[39m:\u001b[39;49m\u001b[39m\\x01\u001b[39;49;00m\u001b[39m\\x30\u001b[39;49;00m\u001b[39m\\x12\u001b[39;49;00m\u001b[39m\\x11\u001b[39;49;00m\u001b[39m\\n\u001b[39;49;00m\u001b[39m\\x06\u001b[39;49;00m\u001b[39m\\x62\u001b[39;49;00m\u001b[39mos_id\u001b[39;49m\u001b[39m\\x18\u001b[39;49;00m\u001b[39m)\u001b[39;49m\u001b[39m\"\u001b[39;49m\n\u001b[1;32m     61\u001b[0m         \u001b[39mb\u001b[39;49m\u001b[39m\"\u001b[39;49m\u001b[39m \u001b[39;49m\u001b[39m\\x01\u001b[39;49;00m\u001b[39m(\u001b[39;49m\u001b[39m\\x05\u001b[39;49;00m\u001b[39m:\u001b[39;49m\u001b[39m\\x01\u001b[39;49;00m\u001b[39m\\x31\u001b[39;49;00m\u001b[39m\\x12\u001b[39;49;00m\u001b[39m\\x11\u001b[39;49;00m\u001b[39m\\n\u001b[39;49;00m\u001b[39m\\x06\u001b[39;49;00m\u001b[39m\\x65\u001b[39;49;00m\u001b[39mos_id\u001b[39;49m\u001b[39m\\x18\u001b[39;49;00m\u001b[39m* \u001b[39;49m\u001b[39m\\x01\u001b[39;49;00m\u001b[39m(\u001b[39;49m\u001b[39m\\x05\u001b[39;49;00m\u001b[39m:\u001b[39;49m\u001b[39m\\x01\u001b[39;49;00m\u001b[39m\\x32\u001b[39;49;00m\u001b[39m\\x12\u001b[39;49;00m\u001b[39m\\x12\u001b[39;49;00m\u001b[39m\\n\u001b[39;49;00m\u001b[39m\\x06\u001b[39;49;00m\u001b[39mpad_id\u001b[39;49m\u001b[39m\\x18\u001b[39;49;00m\u001b[39m+\u001b[39;49m\u001b[39m\"\u001b[39;49m\n\u001b[1;32m     62\u001b[0m         \u001b[39mb\u001b[39;49m\u001b[39m\"\u001b[39;49m\u001b[39m \u001b[39;49m\u001b[39m\\x01\u001b[39;49;00m\u001b[39m(\u001b[39;49m\u001b[39m\\x05\u001b[39;49;00m\u001b[39m:\u001b[39;49m\u001b[39m\\x02\u001b[39;49;00m\u001b[39m-1\u001b[39;49m\u001b[39m\\x12\u001b[39;49;00m\u001b[39m\\x18\u001b[39;49;00m\u001b[39m\\n\u001b[39;49;00m\u001b[39m\\t\u001b[39;49;00m\u001b[39munk_piece\u001b[39;49m\u001b[39m\\x18\u001b[39;49;00m\u001b[39m- \u001b[39;49m\u001b[39m\\x01\u001b[39;49;00m\u001b[39m(\u001b[39;49m\u001b[39m\\t\u001b[39;49;00m\u001b[39m:\u001b[39;49m\u001b[39m\\x05\u001b[39;49;00m\u001b[39m<unk>\u001b[39;49m\u001b[39m\\x12\u001b[39;49;00m\u001b[39m\\x16\u001b[39;49;00m\u001b[39m\\n\u001b[39;49;00m\u001b[39m\\t\u001b[39;49;00m\u001b[39mbos_piece\u001b[39;49m\u001b[39m\\x18\u001b[39;49;00m\u001b[39m.\u001b[39;49m\u001b[39m\"\u001b[39;49m\n\u001b[1;32m     63\u001b[0m         \u001b[39mb\u001b[39;49m\u001b[39m\"\u001b[39;49m\u001b[39m \u001b[39;49m\u001b[39m\\x01\u001b[39;49;00m\u001b[39m(\u001b[39;49m\u001b[39m\\t\u001b[39;49;00m\u001b[39m:\u001b[39;49m\u001b[39m\\x03\u001b[39;49;00m\u001b[39m<s>\u001b[39;49m\u001b[39m\\x12\u001b[39;49;00m\u001b[39m\\x17\u001b[39;49;00m\u001b[39m\\n\u001b[39;49;00m\u001b[39m\\t\u001b[39;49;00m\u001b[39meos_piece\u001b[39;49m\u001b[39m\\x18\u001b[39;49;00m\u001b[39m/ \u001b[39;49m\u001b[39m\\x01\u001b[39;49;00m\u001b[39m(\u001b[39;49m\u001b[39m\\t\u001b[39;49;00m\u001b[39m:\u001b[39;49m\u001b[39m\\x04\u001b[39;49;00m\u001b[39m</s>\u001b[39;49m\u001b[39m\\x12\u001b[39;49;00m\u001b[39m\\x18\u001b[39;49;00m\u001b[39m\\n\u001b[39;49;00m\u001b[39m\\t\u001b[39;49;00m\u001b[39mpad_piece\u001b[39;49m\u001b[39m\\x18\u001b[39;49;00m\u001b[39m\\x30\u001b[39;49;00m\u001b[39m\"\u001b[39;49m\n\u001b[1;32m     64\u001b[0m         \u001b[39mb\u001b[39;49m\u001b[39m\"\u001b[39;49m\u001b[39m \u001b[39;49m\u001b[39m\\x01\u001b[39;49;00m\u001b[39m(\u001b[39;49m\u001b[39m\\t\u001b[39;49;00m\u001b[39m:\u001b[39;49m\u001b[39m\\x05\u001b[39;49;00m\u001b[39m<pad>\u001b[39;49m\u001b[39m\\x12\u001b[39;49;00m\u001b[39m\\x1a\u001b[39;49;00m\u001b[39m\\n\u001b[39;49;00m\u001b[39m\\x0b\u001b[39;49;00m\u001b[39munk_surface\u001b[39;49m\u001b[39m\\x18\u001b[39;49;00m\u001b[39m, \u001b[39;49m\u001b[39m\\x01\u001b[39;49;00m\u001b[39m(\u001b[39;49m\u001b[39m\\t\u001b[39;49;00m\u001b[39m:\u001b[39;49m\u001b[39m\\x05\u001b[39;49;00m\u001b[39m \u001b[39;49m\u001b[39m\\xe2\u001b[39;49;00m\u001b[39m\\x81\u001b[39;49;00m\u001b[39m\\x87\u001b[39;49;00m\u001b[39m\"\u001b[39;49m\n\u001b[1;32m     65\u001b[0m         \u001b[39mb\u001b[39;49m\u001b[39m\"\u001b[39;49m\u001b[39m \u001b[39;49m\u001b[39m\\x12\u001b[39;49;00m\u001b[39m+\u001b[39;49m\u001b[39m\\n\u001b[39;49;00m\u001b[39m\\x1c\u001b[39;49;00m\u001b[39mtrain_extremely_large_corpus\u001b[39;49m\u001b[39m\\x18\u001b[39;49;00m\u001b[39m\\x31\u001b[39;49;00m\u001b[39m\"\u001b[39;49m\n\u001b[1;32m     66\u001b[0m         \u001b[39mb\u001b[39;49m\u001b[39m'\u001b[39;49m\u001b[39m \u001b[39;49m\u001b[39m\\x01\u001b[39;49;00m\u001b[39m(\u001b[39;49m\u001b[39m\\x08\u001b[39;49;00m\u001b[39m:\u001b[39;49m\u001b[39m\\x05\u001b[39;49;00m\u001b[39m\\x66\u001b[39;49;00m\u001b[39m\\x61\u001b[39;49;00m\u001b[39mlse\u001b[39;49m\u001b[39m\"\u001b[39;49m\u001b[39m5\u001b[39;49m\u001b[39m\\n\u001b[39;49;00m\u001b[39m\\t\u001b[39;49;00m\u001b[39mModelType\u001b[39;49m\u001b[39m\\x12\u001b[39;49;00m\u001b[39m\\x0b\u001b[39;49;00m\u001b[39m\\n\u001b[39;49;00m\u001b[39m\\x07\u001b[39;49;00m\u001b[39mUNIGRAM\u001b[39;49m\u001b[39m\\x10\u001b[39;49;00m\u001b[39m\\x01\u001b[39;49;00m\u001b[39m\\x12\u001b[39;49;00m\u001b[39m\\x07\u001b[39;49;00m\u001b[39m\\n\u001b[39;49;00m\u001b[39m\\x03\u001b[39;49;00m\u001b[39m\\x42\u001b[39;49;00m\u001b[39mPE\u001b[39;49m\u001b[39m\\x10\u001b[39;49;00m\u001b[39m\\x02\u001b[39;49;00m\u001b[39m\\x12\u001b[39;49;00m\u001b[39m\\x08\u001b[39;49;00m\u001b[39m\\n\u001b[39;49;00m\u001b[39m\\x04\u001b[39;49;00m\u001b[39mWORD\u001b[39;49m\u001b[39m\\x10\u001b[39;49;00m\u001b[39m\\x03\u001b[39;49;00m\u001b[39m\\x12\u001b[39;49;00m\u001b[39m\\x08\u001b[39;49;00m\u001b[39m\\n\u001b[39;49;00m\u001b[39m\\x04\u001b[39;49;00m\u001b[39m\\x43\u001b[39;49;00m\u001b[39mHAR\u001b[39;49m\u001b[39m\\x10\u001b[39;49;00m\u001b[39m\\x04\u001b[39;49;00m\u001b[39m*\u001b[39;49m\u001b[39m\\t\u001b[39;49;00m\u001b[39m\\x08\u001b[39;49;00m\u001b[39m\\xc8\u001b[39;49;00m\u001b[39m\\x01\u001b[39;49;00m\u001b[39m\\x10\u001b[39;49;00m\u001b[39m\\x80\u001b[39;49;00m\u001b[39m\\x80\u001b[39;49;00m\u001b[39m\\x80\u001b[39;49;00m\u001b[39m\\x80\u001b[39;49;00m\u001b[39m\\x02\u001b[39;49;00m\u001b[39m\"\u001b[39;49m\u001b[39m\\xd1\u001b[39;49;00m\u001b[39m\\x01\u001b[39;49;00m\u001b[39m\\n\u001b[39;49;00m\u001b[39m\\x0e\u001b[39;49;00m\u001b[39mNormalizerSpec\u001b[39;49m\u001b[39m\\x12\u001b[39;49;00m\u001b[39m\\x0c\u001b[39;49;00m\u001b[39m\\n\u001b[39;49;00m\u001b[39m\\x04\u001b[39;49;00m\u001b[39mname\u001b[39;49m\u001b[39m\\x18\u001b[39;49;00m\u001b[39m\\x01\u001b[39;49;00m\u001b[39m'\u001b[39;49m\n\u001b[1;32m     67\u001b[0m         \u001b[39mb\u001b[39;49m\u001b[39m\"\u001b[39;49m\u001b[39m \u001b[39;49m\u001b[39m\\x01\u001b[39;49;00m\u001b[39m(\u001b[39;49m\u001b[39m\\t\u001b[39;49;00m\u001b[39m\\x12\u001b[39;49;00m\u001b[39m\\x1c\u001b[39;49;00m\u001b[39m\\n\u001b[39;49;00m\u001b[39m\\x14\u001b[39;49;00m\u001b[39mprecompiled_charsmap\u001b[39;49m\u001b[39m\\x18\u001b[39;49;00m\u001b[39m\\x02\u001b[39;49;00m\u001b[39m \u001b[39;49m\u001b[39m\\x01\u001b[39;49;00m\u001b[39m(\u001b[39;49m\u001b[39m\\x0c\u001b[39;49;00m\u001b[39m\\x12\u001b[39;49;00m\u001b[39m\\x1e\u001b[39;49;00m\u001b[39m\\n\u001b[39;49;00m\u001b[39m\\x10\u001b[39;49;00m\u001b[39m\\x61\u001b[39;49;00m\u001b[39m\\x64\u001b[39;49;00m\u001b[39m\\x64\u001b[39;49;00m\u001b[39m_dummy_prefix\u001b[39;49m\u001b[39m\\x18\u001b[39;49;00m\u001b[39m\\x03\u001b[39;49;00m\u001b[39m\"\u001b[39;49m\n\u001b[1;32m     68\u001b[0m         \u001b[39mb\u001b[39;49m\u001b[39m\"\u001b[39;49m\u001b[39m \u001b[39;49m\u001b[39m\\x01\u001b[39;49;00m\u001b[39m(\u001b[39;49m\u001b[39m\\x08\u001b[39;49;00m\u001b[39m:\u001b[39;49m\u001b[39m\\x04\u001b[39;49;00m\u001b[39mtrue\u001b[39;49m\u001b[39m\\x12\u001b[39;49;00m\u001b[39m&\u001b[39;49m\u001b[39m\\n\u001b[39;49;00m\u001b[39m\\x18\u001b[39;49;00m\u001b[39mremove_extra_whitespaces\u001b[39;49m\u001b[39m\\x18\u001b[39;49;00m\u001b[39m\\x04\u001b[39;49;00m\u001b[39m \u001b[39;49m\u001b[39m\\x01\u001b[39;49;00m\u001b[39m(\u001b[39;49m\u001b[39m\\x08\u001b[39;49;00m\u001b[39m:\u001b[39;49m\u001b[39m\\x04\u001b[39;49;00m\u001b[39mtrue\u001b[39;49m\u001b[39m\\x12\u001b[39;49;00m\u001b[39m\"\u001b[39;49m\n\u001b[1;32m     69\u001b[0m         \u001b[39mb\u001b[39;49m\u001b[39m\"\u001b[39;49m\u001b[39m \u001b[39;49m\u001b[39m\\n\u001b[39;49;00m\u001b[39m\\x12\u001b[39;49;00m\u001b[39m\\x65\u001b[39;49;00m\u001b[39mscape_whitespaces\u001b[39;49m\u001b[39m\\x18\u001b[39;49;00m\u001b[39m\\x05\u001b[39;49;00m\u001b[39m \u001b[39;49m\u001b[39m\\x01\u001b[39;49;00m\u001b[39m(\u001b[39;49m\u001b[39m\\x08\u001b[39;49;00m\u001b[39m:\u001b[39;49m\u001b[39m\\x04\u001b[39;49;00m\u001b[39mtrue\u001b[39;49m\u001b[39m\\x12\u001b[39;49;00m\u001b[39m\\x1e\u001b[39;49;00m\u001b[39m\\n\u001b[39;49;00m\u001b[39m\\x16\u001b[39;49;00m\u001b[39mnormalization_rule_tsv\u001b[39;49m\u001b[39m\\x18\u001b[39;49;00m\u001b[39m\\x06\u001b[39;49;00m\u001b[39m\"\u001b[39;49m\n\u001b[1;32m     70\u001b[0m         \u001b[39mb\u001b[39;49m\u001b[39m'\u001b[39;49m\u001b[39m \u001b[39;49m\u001b[39m\\x01\u001b[39;49;00m\u001b[39m(\u001b[39;49m\u001b[39m\\t\u001b[39;49;00m\u001b[39m*\u001b[39;49m\u001b[39m\\t\u001b[39;49;00m\u001b[39m\\x08\u001b[39;49;00m\u001b[39m\\xc8\u001b[39;49;00m\u001b[39m\\x01\u001b[39;49;00m\u001b[39m\\x10\u001b[39;49;00m\u001b[39m\\x80\u001b[39;49;00m\u001b[39m\\x80\u001b[39;49;00m\u001b[39m\\x80\u001b[39;49;00m\u001b[39m\\x80\u001b[39;49;00m\u001b[39m\\x02\u001b[39;49;00m\u001b[39m\"\u001b[39;49m\u001b[39my\u001b[39;49m\u001b[39m\\n\u001b[39;49;00m\u001b[39m\\x0c\u001b[39;49;00m\u001b[39mSelfTestData\u001b[39;49m\u001b[39m\\x12\u001b[39;49;00m\u001b[39m\\x33\u001b[39;49;00m\u001b[39m\\n\u001b[39;49;00m\u001b[39m\\x07\u001b[39;49;00m\u001b[39msamples\u001b[39;49m\u001b[39m\\x18\u001b[39;49;00m\u001b[39m\\x01\u001b[39;49;00m\u001b[39m'\u001b[39;49m\n\u001b[1;32m     71\u001b[0m         \u001b[39mb\u001b[39;49m\u001b[39m'\u001b[39;49m\u001b[39m \u001b[39;49m\u001b[39m\\x03\u001b[39;49;00m\u001b[39m(\u001b[39;49m\u001b[39m\\x0b\u001b[39;49;00m\u001b[39m\\x32\u001b[39;49;00m\u001b[39m\"\u001b[39;49m\u001b[39m.sentencepiece.SelfTestData.Sample\u001b[39;49m\u001b[39m\\x1a\u001b[39;49;00m\u001b[39m)\u001b[39;49m\u001b[39m\\n\u001b[39;49;00m\u001b[39m\\x06\u001b[39;49;00m\u001b[39mSample\u001b[39;49m\u001b[39m\\x12\u001b[39;49;00m\u001b[39m\\r\u001b[39;49;00m\u001b[39m\\n\u001b[39;49;00m\u001b[39m\\x05\u001b[39;49;00m\u001b[39minput\u001b[39;49m\u001b[39m\\x18\u001b[39;49;00m\u001b[39m\\x01\u001b[39;49;00m\u001b[39m'\u001b[39;49m\n\u001b[1;32m     72\u001b[0m         \u001b[39mb\u001b[39;49m\u001b[39m\"\u001b[39;49m\u001b[39m \u001b[39;49m\u001b[39m\\x01\u001b[39;49;00m\u001b[39m(\u001b[39;49m\u001b[39m\\t\u001b[39;49;00m\u001b[39m\\x12\u001b[39;49;00m\u001b[39m\\x10\u001b[39;49;00m\u001b[39m\\n\u001b[39;49;00m\u001b[39m\\x08\u001b[39;49;00m\u001b[39m\\x65\u001b[39;49;00m\u001b[39mxpected\u001b[39;49m\u001b[39m\\x18\u001b[39;49;00m\u001b[39m\\x02\u001b[39;49;00m\u001b[39m\"\u001b[39;49m\n\u001b[1;32m     73\u001b[0m         \u001b[39mb\u001b[39;49m\u001b[39m'\u001b[39;49m\u001b[39m \u001b[39;49m\u001b[39m\\x01\u001b[39;49;00m\u001b[39m(\u001b[39;49m\u001b[39m\\t\u001b[39;49;00m\u001b[39m*\u001b[39;49m\u001b[39m\\t\u001b[39;49;00m\u001b[39m\\x08\u001b[39;49;00m\u001b[39m\\xc8\u001b[39;49;00m\u001b[39m\\x01\u001b[39;49;00m\u001b[39m\\x10\u001b[39;49;00m\u001b[39m\\x80\u001b[39;49;00m\u001b[39m\\x80\u001b[39;49;00m\u001b[39m\\x80\u001b[39;49;00m\u001b[39m\\x80\u001b[39;49;00m\u001b[39m\\x02\u001b[39;49;00m\u001b[39m\"\u001b[39;49m\u001b[39m\\xfe\u001b[39;49;00m\u001b[39m\\x03\u001b[39;49;00m\u001b[39m\\n\u001b[39;49;00m\u001b[39m\\n\u001b[39;49;00m\u001b[39mModelProto\u001b[39;49m\u001b[39m\\x12\u001b[39;49;00m\u001b[39m\\x37\u001b[39;49;00m\u001b[39m\\n\u001b[39;49;00m\u001b[39m\\x06\u001b[39;49;00m\u001b[39mpieces\u001b[39;49m\u001b[39m\\x18\u001b[39;49;00m\u001b[39m\\x01\u001b[39;49;00m\u001b[39m'\u001b[39;49m\n\u001b[1;32m     74\u001b[0m         \u001b[39mb\u001b[39;49m\u001b[39m\"\u001b[39;49m\u001b[39m \u001b[39;49m\u001b[39m\\x03\u001b[39;49;00m\u001b[39m(\u001b[39;49m\u001b[39m\\x0b\u001b[39;49;00m\u001b[39m\\x32\u001b[39;49;00m\u001b[39m'\u001b[39;49m\u001b[39m.sentencepiece.ModelProto.SentencePiece\u001b[39;49m\u001b[39m\\x12\u001b[39;49;00m\u001b[39m\\x30\u001b[39;49;00m\u001b[39m\\n\u001b[39;49;00m\u001b[39m\\x0c\u001b[39;49;00m\u001b[39mtrainer_spec\u001b[39;49m\u001b[39m\\x18\u001b[39;49;00m\u001b[39m\\x02\u001b[39;49;00m\u001b[39m\"\u001b[39;49m\n\u001b[1;32m     75\u001b[0m         \u001b[39mb\u001b[39;49m\u001b[39m\"\u001b[39;49m\u001b[39m \u001b[39;49m\u001b[39m\\x01\u001b[39;49;00m\u001b[39m(\u001b[39;49m\u001b[39m\\x0b\u001b[39;49;00m\u001b[39m\\x32\u001b[39;49;00m\u001b[39m\\x1a\u001b[39;49;00m\u001b[39m.sentencepiece.TrainerSpec\u001b[39;49m\u001b[39m\\x12\u001b[39;49;00m\u001b[39m\\x36\u001b[39;49;00m\u001b[39m\\n\u001b[39;49;00m\u001b[39m\\x0f\u001b[39;49;00m\u001b[39mnormalizer_spec\u001b[39;49m\u001b[39m\\x18\u001b[39;49;00m\u001b[39m\\x03\u001b[39;49;00m\u001b[39m\"\u001b[39;49m\n\u001b[1;32m     76\u001b[0m         \u001b[39mb\u001b[39;49m\u001b[39m\"\u001b[39;49m\u001b[39m \u001b[39;49m\u001b[39m\\x01\u001b[39;49;00m\u001b[39m(\u001b[39;49m\u001b[39m\\x0b\u001b[39;49;00m\u001b[39m\\x32\u001b[39;49;00m\u001b[39m\\x1d\u001b[39;49;00m\u001b[39m.sentencepiece.NormalizerSpec\u001b[39;49m\u001b[39m\\x12\u001b[39;49;00m\u001b[39m\\x33\u001b[39;49;00m\u001b[39m\\n\u001b[39;49;00m\u001b[39m\\x0e\u001b[39;49;00m\u001b[39mself_test_data\u001b[39;49m\u001b[39m\\x18\u001b[39;49;00m\u001b[39m\\x04\u001b[39;49;00m\u001b[39m\"\u001b[39;49m\n\u001b[1;32m     77\u001b[0m         \u001b[39mb\u001b[39;49m\u001b[39m\"\u001b[39;49m\u001b[39m \u001b[39;49m\u001b[39m\\x01\u001b[39;49;00m\u001b[39m(\u001b[39;49m\u001b[39m\\x0b\u001b[39;49;00m\u001b[39m\\x32\u001b[39;49;00m\u001b[39m\\x1b\u001b[39;49;00m\u001b[39m.sentencepiece.SelfTestData\u001b[39;49m\u001b[39m\\x12\u001b[39;49;00m\u001b[39m\\x38\u001b[39;49;00m\u001b[39m\\n\u001b[39;49;00m\u001b[39m\\x11\u001b[39;49;00m\u001b[39m\\x64\u001b[39;49;00m\u001b[39m\\x65\u001b[39;49;00m\u001b[39mnormalizer_spec\u001b[39;49m\u001b[39m\\x18\u001b[39;49;00m\u001b[39m\\x05\u001b[39;49;00m\u001b[39m\"\u001b[39;49m\n\u001b[1;32m     78\u001b[0m         \u001b[39mb\u001b[39;49m\u001b[39m\"\u001b[39;49m\u001b[39m \u001b[39;49m\u001b[39m\\x01\u001b[39;49;00m\u001b[39m(\u001b[39;49m\u001b[39m\\x0b\u001b[39;49;00m\u001b[39m\\x32\u001b[39;49;00m\u001b[39m\\x1d\u001b[39;49;00m\u001b[39m.sentencepiece.NormalizerSpec\u001b[39;49m\u001b[39m\\x1a\u001b[39;49;00m\u001b[39m\\xd2\u001b[39;49;00m\u001b[39m\\x01\u001b[39;49;00m\u001b[39m\\n\u001b[39;49;00m\u001b[39m\\r\u001b[39;49;00m\u001b[39mSentencePiece\u001b[39;49m\u001b[39m\\x12\u001b[39;49;00m\u001b[39m\\r\u001b[39;49;00m\u001b[39m\\n\u001b[39;49;00m\u001b[39m\\x05\u001b[39;49;00m\u001b[39mpiece\u001b[39;49m\u001b[39m\\x18\u001b[39;49;00m\u001b[39m\\x01\u001b[39;49;00m\u001b[39m\"\u001b[39;49m\n\u001b[1;32m     79\u001b[0m         \u001b[39mb\u001b[39;49m\u001b[39m\"\u001b[39;49m\u001b[39m \u001b[39;49m\u001b[39m\\x01\u001b[39;49;00m\u001b[39m(\u001b[39;49m\u001b[39m\\t\u001b[39;49;00m\u001b[39m\\x12\u001b[39;49;00m\u001b[39m\\r\u001b[39;49;00m\u001b[39m\\n\u001b[39;49;00m\u001b[39m\\x05\u001b[39;49;00m\u001b[39mscore\u001b[39;49m\u001b[39m\\x18\u001b[39;49;00m\u001b[39m\\x02\u001b[39;49;00m\u001b[39m \u001b[39;49m\u001b[39m\\x01\u001b[39;49;00m\u001b[39m(\u001b[39;49m\u001b[39m\\x02\u001b[39;49;00m\u001b[39m\\x12\u001b[39;49;00m\u001b[39m\\x42\u001b[39;49;00m\u001b[39m\\n\u001b[39;49;00m\u001b[39m\\x04\u001b[39;49;00m\u001b[39mtype\u001b[39;49m\u001b[39m\\x18\u001b[39;49;00m\u001b[39m\\x03\u001b[39;49;00m\u001b[39m\"\u001b[39;49m\n\u001b[1;32m     80\u001b[0m         \u001b[39mb\u001b[39;49m\u001b[39m'\u001b[39;49m\u001b[39m \u001b[39;49m\u001b[39m\\x01\u001b[39;49;00m\u001b[39m(\u001b[39;49m\u001b[39m\\x0e\u001b[39;49;00m\u001b[39m\\x32\u001b[39;49;00m\u001b[39m,.sentencepiece.ModelProto.SentencePiece.Type:\u001b[39;49m\u001b[39m\\x06\u001b[39;49;00m\u001b[39mNORMAL\u001b[39;49m\u001b[39m\"\u001b[39;49m\u001b[39mT\u001b[39;49m\u001b[39m\\n\u001b[39;49;00m\u001b[39m\\x04\u001b[39;49;00m\u001b[39mType\u001b[39;49m\u001b[39m\\x12\u001b[39;49;00m\u001b[39m\\n\u001b[39;49;00m\u001b[39m\\n\u001b[39;49;00m\u001b[39m\\x06\u001b[39;49;00m\u001b[39mNORMAL\u001b[39;49m\u001b[39m\\x10\u001b[39;49;00m\u001b[39m\\x01\u001b[39;49;00m\u001b[39m\\x12\u001b[39;49;00m\u001b[39m\\x0b\u001b[39;49;00m\u001b[39m\\n\u001b[39;49;00m\u001b[39m\\x07\u001b[39;49;00m\u001b[39mUNKNOWN\u001b[39;49m\u001b[39m\\x10\u001b[39;49;00m\u001b[39m\\x02\u001b[39;49;00m\u001b[39m\\x12\u001b[39;49;00m\u001b[39m\\x0b\u001b[39;49;00m\u001b[39m\\n\u001b[39;49;00m\u001b[39m\\x07\u001b[39;49;00m\u001b[39m\\x43\u001b[39;49;00m\u001b[39mONTROL\u001b[39;49m\u001b[39m\\x10\u001b[39;49;00m\u001b[39m\\x03\u001b[39;49;00m\u001b[39m\\x12\u001b[39;49;00m\u001b[39m\\x10\u001b[39;49;00m\u001b[39m\\n\u001b[39;49;00m\u001b[39m\\x0c\u001b[39;49;00m\u001b[39mUSER_DEFINED\u001b[39;49m\u001b[39m\\x10\u001b[39;49;00m\u001b[39m\\x04\u001b[39;49;00m\u001b[39m\\x12\u001b[39;49;00m\u001b[39m\\x08\u001b[39;49;00m\u001b[39m\\n\u001b[39;49;00m\u001b[39m\\x04\u001b[39;49;00m\u001b[39m\\x42\u001b[39;49;00m\u001b[39mYTE\u001b[39;49m\u001b[39m\\x10\u001b[39;49;00m\u001b[39m\\x06\u001b[39;49;00m\u001b[39m\\x12\u001b[39;49;00m\u001b[39m\\n\u001b[39;49;00m\u001b[39m\\n\u001b[39;49;00m\u001b[39m\\x06\u001b[39;49;00m\u001b[39mUNUSED\u001b[39;49m\u001b[39m\\x10\u001b[39;49;00m\u001b[39m\\x05\u001b[39;49;00m\u001b[39m*\u001b[39;49m\u001b[39m\\t\u001b[39;49;00m\u001b[39m\\x08\u001b[39;49;00m\u001b[39m\\xc8\u001b[39;49;00m\u001b[39m\\x01\u001b[39;49;00m\u001b[39m\\x10\u001b[39;49;00m\u001b[39m\\x80\u001b[39;49;00m\u001b[39m\\x80\u001b[39;49;00m\u001b[39m\\x80\u001b[39;49;00m\u001b[39m\\x80\u001b[39;49;00m\u001b[39m\\x02\u001b[39;49;00m\u001b[39m*\u001b[39;49m\u001b[39m\\t\u001b[39;49;00m\u001b[39m\\x08\u001b[39;49;00m\u001b[39m\\xc8\u001b[39;49;00m\u001b[39m\\x01\u001b[39;49;00m\u001b[39m\\x10\u001b[39;49;00m\u001b[39m\\x80\u001b[39;49;00m\u001b[39m\\x80\u001b[39;49;00m\u001b[39m\\x80\u001b[39;49;00m\u001b[39m\\x80\u001b[39;49;00m\u001b[39m\\x02\u001b[39;49;00m\u001b[39m\\x42\u001b[39;49;00m\u001b[39m\\x02\u001b[39;49;00m\u001b[39mH\u001b[39;49m\u001b[39m\\x03\u001b[39;49;00m\u001b[39m'\u001b[39;49m\n\u001b[1;32m     81\u001b[0m     ),\n\u001b[1;32m     82\u001b[0m )\n\u001b[1;32m     85\u001b[0m _TRAINERSPEC_MODELTYPE \u001b[39m=\u001b[39m _descriptor\u001b[39m.\u001b[39mEnumDescriptor(\n\u001b[1;32m     86\u001b[0m     name\u001b[39m=\u001b[39m\u001b[39m\"\u001b[39m\u001b[39mModelType\u001b[39m\u001b[39m\"\u001b[39m,\n\u001b[1;32m     87\u001b[0m     full_name\u001b[39m=\u001b[39m\u001b[39m\"\u001b[39m\u001b[39msentencepiece.TrainerSpec.ModelType\u001b[39m\u001b[39m\"\u001b[39m,\n\u001b[0;32m   (...)\u001b[0m\n\u001b[1;32m    128\u001b[0m     serialized_end\u001b[39m=\u001b[39m\u001b[39m1347\u001b[39m,\n\u001b[1;32m    129\u001b[0m )\n\u001b[1;32m    130\u001b[0m _sym_db\u001b[39m.\u001b[39mRegisterEnumDescriptor(_TRAINERSPEC_MODELTYPE)\n",
      "File \u001b[0;32m~/opt/anaconda3/envs/cdp-minutes-item-generation-prototypes/lib/python3.9/site-packages/google/protobuf/descriptor.py:1028\u001b[0m, in \u001b[0;36mFileDescriptor.__new__\u001b[0;34m(cls, name, package, options, serialized_options, serialized_pb, dependencies, public_dependencies, syntax, pool, create_key)\u001b[0m\n\u001b[1;32m   1026\u001b[0m     \u001b[39mraise\u001b[39;00m \u001b[39mRuntimeError\u001b[39;00m(\u001b[39m'\u001b[39m\u001b[39mPlease link in cpp generated lib for \u001b[39m\u001b[39m%s\u001b[39;00m\u001b[39m'\u001b[39m \u001b[39m%\u001b[39m (name))\n\u001b[1;32m   1027\u001b[0m \u001b[39melif\u001b[39;00m serialized_pb:\n\u001b[0;32m-> 1028\u001b[0m   \u001b[39mreturn\u001b[39;00m _message\u001b[39m.\u001b[39;49mdefault_pool\u001b[39m.\u001b[39;49mAddSerializedFile(serialized_pb)\n\u001b[1;32m   1029\u001b[0m \u001b[39melse\u001b[39;00m:\n\u001b[1;32m   1030\u001b[0m   \u001b[39mreturn\u001b[39;00m \u001b[39msuper\u001b[39m(FileDescriptor, \u001b[39mcls\u001b[39m)\u001b[39m.\u001b[39m\u001b[39m__new__\u001b[39m(\u001b[39mcls\u001b[39m)\n",
      "\u001b[0;31mTypeError\u001b[0m: Couldn't build proto file into descriptor pool: duplicate file name (sentencepiece_model.proto)"
     ]
    }
   ],
   "source": [
    "from transformers import AutoTokenizer\n",
    "\n",
    "model_checkpoint = \"google/mt5-small\"\n",
    "tokenizer = AutoTokenizer.from_pretrained(model_checkpoint)"
   ]
  },
  {
   "cell_type": "code",
   "execution_count": 31,
   "id": "d0458d1c",
   "metadata": {
    "collapsed": false,
    "jupyter": {
     "outputs_hidden": false
    }
   },
   "outputs": [],
   "source": [
    "# Maximum length of text\n",
    "max_input_length = 512\n",
    "\n",
    "# Maximum length of outlines\n",
    "max_target_length = 30\n",
    "\n",
    "\n",
    "def preprocess_function(examples):\n",
    "    model_inputs = tokenizer(\n",
    "        examples[\"sentences\"],\n",
    "        max_length=max_input_length,\n",
    "        truncation=True,\n",
    "    )\n",
    "    labels = tokenizer(\n",
    "        examples[\"minutes_items\"], max_length=max_target_length, truncation=True\n",
    "    )\n",
    "    model_inputs[\"labels\"] = labels[\"input_ids\"]\n",
    "    return model_inputs"
   ]
  },
  {
   "cell_type": "code",
   "execution_count": null,
   "id": "5e7432df-7c2c-4a06-b438-555c013c5cf7",
   "metadata": {},
   "outputs": [],
   "source": [
    "tokenized_datasets = data.map(preprocess_function, batched=True)"
   ]
  },
  {
   "cell_type": "markdown",
   "id": "2f3c8887-7845-4868-95fa-bf2ff98e860b",
   "metadata": {},
   "source": [
    "## Metrics for text summarization"
   ]
  },
  {
   "cell_type": "code",
   "execution_count": 29,
   "id": "9bf25ad8-af10-4229-bf7d-95131fdf1928",
   "metadata": {},
   "outputs": [
    {
     "data": {
      "application/vnd.jupyter.widget-view+json": {
       "model_id": "e0d666f36f21461487c5a0202f4d87b3",
       "version_major": 2,
       "version_minor": 0
      },
      "text/plain": [
       "Downloading builder script:   0%|          | 0.00/6.27k [00:00<?, ?B/s]"
      ]
     },
     "metadata": {},
     "output_type": "display_data"
    }
   ],
   "source": [
    "import evaluate\n",
    "\n",
    "rouge_score = evaluate.load(\"rouge\")"
   ]
  },
  {
   "cell_type": "markdown",
   "id": "07a3410d-8620-43ee-b95b-d8570b1bbe5e",
   "metadata": {},
   "source": [
    "## Creating a strong baseline"
   ]
  },
  {
   "cell_type": "code",
   "execution_count": 31,
   "id": "205fc6b3-f31e-4fd4-9f31-0ba9ed3074b8",
   "metadata": {},
   "outputs": [
    {
     "name": "stderr",
     "output_type": "stream",
     "text": [
      "[nltk_data] Downloading package punkt to\n",
      "[nltk_data]     /Users/ethanzhuang/nltk_data...\n",
      "[nltk_data]   Unzipping tokenizers/punkt.zip.\n"
     ]
    },
    {
     "data": {
      "text/plain": [
       "True"
      ]
     },
     "execution_count": 31,
     "metadata": {},
     "output_type": "execute_result"
    }
   ],
   "source": [
    "import nltk\n",
    "\n",
    "nltk.download(\"punkt\")"
   ]
  },
  {
   "cell_type": "code",
   "execution_count": null,
   "id": "f573bae8-b8d3-4f86-90a4-f336fa424d60",
   "metadata": {},
   "outputs": [],
   "source": [
    "from nltk.tokenize import sent_tokenize\n",
    "\n",
    "\n",
    "def three_sentence_summary(text):\n",
    "    return \"\\n\".join(sent_tokenize(text)[:3])\n",
    "\n",
    "\n",
    "print(three_sentence_summary(data[\"train\"][\"sentences\"]))"
   ]
  },
  {
   "cell_type": "code",
   "execution_count": null,
   "id": "40fb02b3-3fee-40f4-9b1c-78033b37854e",
   "metadata": {},
   "outputs": [],
   "source": [
    "def evaluate_baseline(dataset, metric):\n",
    "    summaries = [three_sentence_summary(text) for text in dataset[\"sentences\"]]\n",
    "    return metric.compute(predictions=summaries, references=dataset[\"minute_items\"])"
   ]
  },
  {
   "cell_type": "code",
   "execution_count": null,
   "id": "e26f80f2-5f61-428e-b04c-84c847d4129d",
   "metadata": {},
   "outputs": [],
   "source": [
    "import pandas as pd\n",
    "\n",
    "score = evaluate_baseline(data[\"validation\"], rouge_score)\n",
    "rouge_names = [\"rouge1\", \"rouge2\", \"rougeL\", \"rougeLsum\"]\n",
    "rouge_dict = dict((rn, round(score[rn].mid.fmeasure * 100, 2)) for rn in rouge_names)\n",
    "rouge_dict"
   ]
  },
  {
   "cell_type": "markdown",
   "id": "b4960971-3bc7-404a-86c7-8cb034ca6f9f",
   "metadata": {},
   "source": [
    "## Fine-tuning mT5 with Keras"
   ]
  },
  {
   "cell_type": "code",
   "execution_count": null,
   "id": "58dacc8d-4b82-45c9-86a8-dbcee0459954",
   "metadata": {},
   "outputs": [],
   "source": [
    "# load the pretrained model from the mt5-small checkpoint\n",
    "from transformers import TFAutoModelForSeq2SeqLM\n",
    "\n",
    "model = TFAutoModelForSeq2SeqLM.from_pretrained(model_checkpoint)"
   ]
  },
  {
   "cell_type": "code",
   "execution_count": null,
   "id": "9abe5640-c916-4a80-aa99-e411821dd927",
   "metadata": {},
   "outputs": [],
   "source": [
    "# dynamically pad the inputs and the labels\n",
    "from transformers import DataCollatorForSeq2Seq\n",
    "\n",
    "data_collator = DataCollatorForSeq2Seq(tokenizer, model=model, return_tensors=\"tf\")"
   ]
  },
  {
   "cell_type": "code",
   "execution_count": null,
   "id": "d1be53e1-6506-47be-927c-1574e4cd4fdf",
   "metadata": {},
   "outputs": [],
   "source": [
    "# remove the columns with strings\n",
    "tokenized_datasets = tokenized_datasets.remove_columns(\n",
    "    data[\"train\"].column_names\n",
    ")"
   ]
  },
  {
   "cell_type": "code",
   "execution_count": null,
   "id": "a2d19e99-c9bd-45bf-9fce-2ecec8de86d2",
   "metadata": {},
   "outputs": [],
   "source": [
    "# convert our datasets to tf.data\n",
    "tf_train_dataset = model.prepare_tf_dataset(\n",
    "    tokenized_datasets[\"train\"],\n",
    "    collate_fn=data_collator,\n",
    "    shuffle=True,\n",
    "    batch_size=8,\n",
    ")\n",
    "tf_eval_dataset = model.prepare_tf_dataset(\n",
    "    tokenized_datasets[\"validation\"],\n",
    "    collate_fn=data_collator,\n",
    "    shuffle=False,\n",
    "    batch_size=8,\n",
    ")"
   ]
  },
  {
   "cell_type": "code",
   "execution_count": null,
   "id": "59e885eb-5726-4ea9-85e7-32015d9716ae",
   "metadata": {},
   "outputs": [],
   "source": [
    "# define our training hyperparameters and compile\n",
    "from transformers import create_optimizer\n",
    "import tensorflow as tf\n",
    "\n",
    "# The number of training steps is the number of samples in the dataset, divided by the batch size then multiplied\n",
    "# by the total number of epochs. Note that the tf_train_dataset here is a batched tf.data.Dataset,\n",
    "# not the original Hugging Face Dataset, so its len() is already num_samples // batch_size.\n",
    "num_train_epochs = 8\n",
    "num_train_steps = len(tf_train_dataset) * num_train_epochs\n",
    "model_name = model_checkpoint.split(\"/\")[-1]\n",
    "\n",
    "optimizer, schedule = create_optimizer(\n",
    "    init_lr=5.6e-5,\n",
    "    num_warmup_steps=0,\n",
    "    num_train_steps=num_train_steps,\n",
    "    weight_decay_rate=0.01,\n",
    ")\n",
    "\n",
    "model.compile(optimizer=optimizer)\n",
    "\n",
    "# Train in mixed-precision float16\n",
    "tf.keras.mixed_precision.set_global_policy(\"mixed_float16\")"
   ]
  },
  {
   "cell_type": "code",
   "execution_count": null,
   "id": "2e3c1b00-c6fc-4ea0-bb7a-3e5af3ebf613",
   "metadata": {},
   "outputs": [],
   "source": [
    "# fit the model\n",
    "from transformers.keras_callbacks import PushToHubCallback\n",
    "\n",
    "callback = PushToHubCallback(\n",
    "    output_dir=f\"{model_name}-finetuned-amazon-en-es\", tokenizer=tokenizer\n",
    ")\n",
    "\n",
    "model.fit(\n",
    "    tf_train_dataset, validation_data=tf_eval_dataset, callbacks=[callback], epochs=8\n",
    ")"
   ]
  },
  {
   "cell_type": "code",
   "execution_count": null,
   "id": "d9e79a9a-67c0-4255-977a-8a74e4e8c1c2",
   "metadata": {},
   "outputs": [],
   "source": [
    "# build some lists of labels and predictions for the ROUGE metric to compare\n",
    "from tqdm import tqdm\n",
    "import numpy as np\n",
    "\n",
    "generation_data_collator = DataCollatorForSeq2Seq(\n",
    "    tokenizer, model=model, return_tensors=\"tf\", pad_to_multiple_of=320\n",
    ")\n",
    "\n",
    "tf_generate_dataset = model.prepare_tf_dataset(\n",
    "    tokenized_datasets[\"validation\"],\n",
    "    collate_fn=generation_data_collator,\n",
    "    shuffle=False,\n",
    "    batch_size=8,\n",
    "    drop_remainder=True,\n",
    ")\n",
    "\n",
    "\n",
    "@tf.function(jit_compile=True)\n",
    "def generate_with_xla(batch):\n",
    "    return model.generate(\n",
    "        input_ids=batch[\"input_ids\"],\n",
    "        attention_mask=batch[\"attention_mask\"],\n",
    "        max_new_tokens=32,\n",
    "    )\n",
    "\n",
    "\n",
    "all_preds = []\n",
    "all_labels = []\n",
    "for batch, labels in tqdm(tf_generate_dataset):\n",
    "    predictions = generate_with_xla(batch)\n",
    "    decoded_preds = tokenizer.batch_decode(predictions, skip_special_tokens=True)\n",
    "    labels = labels.numpy()\n",
    "    labels = np.where(labels != -100, labels, tokenizer.pad_token_id)\n",
    "    decoded_labels = tokenizer.batch_decode(labels, skip_special_tokens=True)\n",
    "    decoded_preds = [\"\\n\".join(sent_tokenize(pred.strip())) for pred in decoded_preds]\n",
    "    decoded_labels = [\"\\n\".join(sent_tokenize(label.strip())) for label in decoded_labels]\n",
    "    all_preds.extend(decoded_preds)\n",
    "    all_labels.extend(decoded_labels)"
   ]
  },
  {
   "cell_type": "code",
   "execution_count": null,
   "id": "d4b4cd55-7fcb-4bfa-8d27-0d5e9557a394",
   "metadata": {},
   "outputs": [],
   "source": [
    "# compue the ROUGE score\n",
    "result = rouge_score.compute(\n",
    "    predictions=decoded_preds, references=decoded_labels, use_stemmer=True\n",
    ")\n",
    "result = {key: value.mid.fmeasure * 100 for key, value in result.items()}\n",
    "{k: round(v, 4) for k, v in result.items()}"
   ]
  },
  {
   "cell_type": "markdown",
   "id": "8f274f53-f020-4411-8ff5-636682c0068d",
   "metadata": {},
   "source": [
    "## Using fine-tuned model"
   ]
  },
  {
   "cell_type": "code",
   "execution_count": null,
   "id": "c6e88ef6-e8b6-4321-a804-8fb64472cee0",
   "metadata": {},
   "outputs": [],
   "source": [
    "from transformers import pipeline\n",
    "\n",
    "hub_model_id = \"huggingface-course/mt5-small-finetuned-amazon-en-es\"\n",
    "summarizer = pipeline(\"summarization\", model=hub_model_id)"
   ]
  },
  {
   "cell_type": "code",
   "execution_count": null,
   "id": "590331fc-9c1b-45ab-bf41-3e79f3a062ef",
   "metadata": {},
   "outputs": [],
   "source": [
    "def print_summary(idx):\n",
    "    sentences = data[\"test\"][\"sentences\"]\n",
    "    minute_items = data[\"test\"][\"minute_items\"]\n",
    "    summary = summarizer(data[\"test\"][\"minute_items\"])[\"summary_text\"]\n",
    "    print(f\"'>>> Transcripts: {sentences}'\")\n",
    "    print(f\"\\n'>>> Minute_items: {minute_items}'\")\n",
    "    print(f\"\\n'>>> Summary: {summary}'\")"
   ]
  }
 ],
 "metadata": {
  "kernelspec": {
   "display_name": "cdp-minutes-item-generation-prototypes",
   "language": "python",
   "name": "python3"
  },
  "language_info": {
   "codemirror_mode": {
    "name": "ipython",
    "version": 3
   },
   "file_extension": ".py",
   "mimetype": "text/x-python",
   "name": "python",
   "nbconvert_exporter": "python",
   "pygments_lexer": "ipython3",
   "version": "3.9.16"
  },
  "vscode": {
   "interpreter": {
    "hash": "f8e54e014fa7e05c1b28e86b76f526564c67fbf7f5f53d483c64169a2caea9e7"
   }
  }
 },
 "nbformat": 4,
 "nbformat_minor": 5
}
