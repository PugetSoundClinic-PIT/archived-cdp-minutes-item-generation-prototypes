{
 "cells": [
  {
   "cell_type": "code",
   "execution_count": 1,
   "id": "78453175-55a5-45f9-80b4-b44e2acd8080",
   "metadata": {},
   "outputs": [
    {
     "data": {
      "text/html": [
       "<div>\n",
       "<style scoped>\n",
       "    .dataframe tbody tr th:only-of-type {\n",
       "        vertical-align: middle;\n",
       "    }\n",
       "\n",
       "    .dataframe tbody tr th {\n",
       "        vertical-align: top;\n",
       "    }\n",
       "\n",
       "    .dataframe thead th {\n",
       "        text-align: right;\n",
       "    }\n",
       "</style>\n",
       "<table border=\"1\" class=\"dataframe\">\n",
       "  <thead>\n",
       "    <tr style=\"text-align: right;\">\n",
       "      <th></th>\n",
       "      <th>infrastructure</th>\n",
       "      <th>session_id</th>\n",
       "      <th>event_id</th>\n",
       "      <th>transcript_path</th>\n",
       "      <th>minutes_items</th>\n",
       "    </tr>\n",
       "  </thead>\n",
       "  <tbody>\n",
       "    <tr>\n",
       "      <th>0</th>\n",
       "      <td>cdp-seattle-21723dcf</td>\n",
       "      <td>001f1a4e4e3c</td>\n",
       "      <td>d916e9acd175</td>\n",
       "      <td>cdp-minutes-item-generation-dataset/transcript...</td>\n",
       "      <td>[ADOPTION OF OTHER RESOLUTIONS, PRESENTATIONS,...</td>\n",
       "    </tr>\n",
       "    <tr>\n",
       "      <th>1</th>\n",
       "      <td>cdp-seattle-21723dcf</td>\n",
       "      <td>008f4e8d253c</td>\n",
       "      <td>75bb0f7c2ba4</td>\n",
       "      <td>cdp-minutes-item-generation-dataset/transcript...</td>\n",
       "      <td>[CB 120084, CB 120083, Call To Order, Adjournm...</td>\n",
       "    </tr>\n",
       "    <tr>\n",
       "      <th>2</th>\n",
       "      <td>cdp-seattle-21723dcf</td>\n",
       "      <td>015dd602acce</td>\n",
       "      <td>30411cba563e</td>\n",
       "      <td>cdp-minutes-item-generation-dataset/transcript...</td>\n",
       "      <td>[CB 120265, Inf 2011, Public Comment, CB 12026...</td>\n",
       "    </tr>\n",
       "    <tr>\n",
       "      <th>3</th>\n",
       "      <td>cdp-seattle-21723dcf</td>\n",
       "      <td>01a6d09dd442</td>\n",
       "      <td>9f581faa5ece</td>\n",
       "      <td>cdp-minutes-item-generation-dataset/transcript...</td>\n",
       "      <td>[Inf 1736, Inf 1735, President's Report, Appro...</td>\n",
       "    </tr>\n",
       "    <tr>\n",
       "      <th>4</th>\n",
       "      <td>cdp-seattle-21723dcf</td>\n",
       "      <td>01e75165fea1</td>\n",
       "      <td>9486903291a7</td>\n",
       "      <td>cdp-minutes-item-generation-dataset/transcript...</td>\n",
       "      <td>[Approval of the Minutes, Inf 1972, Inf 1961, ...</td>\n",
       "    </tr>\n",
       "    <tr>\n",
       "      <th>...</th>\n",
       "      <td>...</td>\n",
       "      <td>...</td>\n",
       "      <td>...</td>\n",
       "      <td>...</td>\n",
       "      <td>...</td>\n",
       "    </tr>\n",
       "    <tr>\n",
       "      <th>516</th>\n",
       "      <td>cdp-seattle-21723dcf</td>\n",
       "      <td>fd5d2f907449</td>\n",
       "      <td>34f160b4a508</td>\n",
       "      <td>cdp-minutes-item-generation-dataset/transcript...</td>\n",
       "      <td>[ADJOURNMENT, ADOPTION OF OTHER RESOLUTIONS, C...</td>\n",
       "    </tr>\n",
       "    <tr>\n",
       "      <th>517</th>\n",
       "      <td>cdp-seattle-21723dcf</td>\n",
       "      <td>fd7f4922bcc3</td>\n",
       "      <td>d0d75a1259aa</td>\n",
       "      <td>cdp-minutes-item-generation-dataset/transcript...</td>\n",
       "      <td>[Inf 1878, Inf 1876, Session I - 9:30 a.m., In...</td>\n",
       "    </tr>\n",
       "    <tr>\n",
       "      <th>518</th>\n",
       "      <td>cdp-seattle-21723dcf</td>\n",
       "      <td>fe09e3d1564f</td>\n",
       "      <td>9fc2e3743166</td>\n",
       "      <td>cdp-minutes-item-generation-dataset/transcript...</td>\n",
       "      <td>[Approval of the Agenda, Inf 1812, Public Comm...</td>\n",
       "    </tr>\n",
       "    <tr>\n",
       "      <th>519</th>\n",
       "      <td>cdp-seattle-21723dcf</td>\n",
       "      <td>fe7c8aa0dd58</td>\n",
       "      <td>7b13838e9e3e</td>\n",
       "      <td>cdp-minutes-item-generation-dataset/transcript...</td>\n",
       "      <td>[Preview of Today’s City Council Actions, Coun...</td>\n",
       "    </tr>\n",
       "    <tr>\n",
       "      <th>520</th>\n",
       "      <td>cdp-seattle-21723dcf</td>\n",
       "      <td>fecdaba2b0f8</td>\n",
       "      <td>96c66c06f12c</td>\n",
       "      <td>cdp-minutes-item-generation-dataset/transcript...</td>\n",
       "      <td>[Preview of Today’s City Council Actions, Coun...</td>\n",
       "    </tr>\n",
       "  </tbody>\n",
       "</table>\n",
       "<p>521 rows × 5 columns</p>\n",
       "</div>"
      ],
      "text/plain": [
       "           infrastructure    session_id      event_id  \\\n",
       "0    cdp-seattle-21723dcf  001f1a4e4e3c  d916e9acd175   \n",
       "1    cdp-seattle-21723dcf  008f4e8d253c  75bb0f7c2ba4   \n",
       "2    cdp-seattle-21723dcf  015dd602acce  30411cba563e   \n",
       "3    cdp-seattle-21723dcf  01a6d09dd442  9f581faa5ece   \n",
       "4    cdp-seattle-21723dcf  01e75165fea1  9486903291a7   \n",
       "..                    ...           ...           ...   \n",
       "516  cdp-seattle-21723dcf  fd5d2f907449  34f160b4a508   \n",
       "517  cdp-seattle-21723dcf  fd7f4922bcc3  d0d75a1259aa   \n",
       "518  cdp-seattle-21723dcf  fe09e3d1564f  9fc2e3743166   \n",
       "519  cdp-seattle-21723dcf  fe7c8aa0dd58  7b13838e9e3e   \n",
       "520  cdp-seattle-21723dcf  fecdaba2b0f8  96c66c06f12c   \n",
       "\n",
       "                                       transcript_path  \\\n",
       "0    cdp-minutes-item-generation-dataset/transcript...   \n",
       "1    cdp-minutes-item-generation-dataset/transcript...   \n",
       "2    cdp-minutes-item-generation-dataset/transcript...   \n",
       "3    cdp-minutes-item-generation-dataset/transcript...   \n",
       "4    cdp-minutes-item-generation-dataset/transcript...   \n",
       "..                                                 ...   \n",
       "516  cdp-minutes-item-generation-dataset/transcript...   \n",
       "517  cdp-minutes-item-generation-dataset/transcript...   \n",
       "518  cdp-minutes-item-generation-dataset/transcript...   \n",
       "519  cdp-minutes-item-generation-dataset/transcript...   \n",
       "520  cdp-minutes-item-generation-dataset/transcript...   \n",
       "\n",
       "                                         minutes_items  \n",
       "0    [ADOPTION OF OTHER RESOLUTIONS, PRESENTATIONS,...  \n",
       "1    [CB 120084, CB 120083, Call To Order, Adjournm...  \n",
       "2    [CB 120265, Inf 2011, Public Comment, CB 12026...  \n",
       "3    [Inf 1736, Inf 1735, President's Report, Appro...  \n",
       "4    [Approval of the Minutes, Inf 1972, Inf 1961, ...  \n",
       "..                                                 ...  \n",
       "516  [ADJOURNMENT, ADOPTION OF OTHER RESOLUTIONS, C...  \n",
       "517  [Inf 1878, Inf 1876, Session I - 9:30 a.m., In...  \n",
       "518  [Approval of the Agenda, Inf 1812, Public Comm...  \n",
       "519  [Preview of Today’s City Council Actions, Coun...  \n",
       "520  [Preview of Today’s City Council Actions, Coun...  \n",
       "\n",
       "[521 rows x 5 columns]"
      ]
     },
     "execution_count": 1,
     "metadata": {},
     "output_type": "execute_result"
    }
   ],
   "source": [
    "import pandas as pd\n",
    "\n",
    "# 1. Read the dataset\n",
    "df = pd.read_parquet(\"cdp-minutes-item-generation-dataset/dataset.parquet\")\n",
    "df"
   ]
  },
  {
   "cell_type": "code",
   "execution_count": 2,
   "id": "4fad8b68-448b-4f76-aa1f-199e0e7fe898",
   "metadata": {},
   "outputs": [
    {
     "data": {
      "text/html": [
       "<div>\n",
       "<style scoped>\n",
       "    .dataframe tbody tr th:only-of-type {\n",
       "        vertical-align: middle;\n",
       "    }\n",
       "\n",
       "    .dataframe tbody tr th {\n",
       "        vertical-align: top;\n",
       "    }\n",
       "\n",
       "    .dataframe thead th {\n",
       "        text-align: right;\n",
       "    }\n",
       "</style>\n",
       "<table border=\"1\" class=\"dataframe\">\n",
       "  <thead>\n",
       "    <tr style=\"text-align: right;\">\n",
       "      <th></th>\n",
       "      <th>infrastructure</th>\n",
       "      <th>session_id</th>\n",
       "      <th>event_id</th>\n",
       "      <th>transcript_path</th>\n",
       "      <th>minutes_items</th>\n",
       "    </tr>\n",
       "  </thead>\n",
       "  <tbody>\n",
       "    <tr>\n",
       "      <th>273</th>\n",
       "      <td>cdp-seattle-21723dcf</td>\n",
       "      <td>884c13780b1d</td>\n",
       "      <td>7f5c5388633c</td>\n",
       "      <td>cdp-minutes-item-generation-dataset/transcript...</td>\n",
       "      <td>Approval of the Minutes;President's Report;Sig...</td>\n",
       "    </tr>\n",
       "    <tr>\n",
       "      <th>272</th>\n",
       "      <td>cdp-seattle-21723dcf</td>\n",
       "      <td>880bc2244617</td>\n",
       "      <td>bfc50250df4b</td>\n",
       "      <td>cdp-minutes-item-generation-dataset/transcript...</td>\n",
       "      <td>CB 119831;Public Comment;Adjournment;Approval ...</td>\n",
       "    </tr>\n",
       "    <tr>\n",
       "      <th>329</th>\n",
       "      <td>cdp-seattle-21723dcf</td>\n",
       "      <td>a7d9aa54081e</td>\n",
       "      <td>5d144a76c5fb</td>\n",
       "      <td>cdp-minutes-item-generation-dataset/transcript...</td>\n",
       "      <td>Inf 1662;Public Comment;Session I - 10:00 a.m....</td>\n",
       "    </tr>\n",
       "    <tr>\n",
       "      <th>481</th>\n",
       "      <td>cdp-seattle-21723dcf</td>\n",
       "      <td>f16d100e510a</td>\n",
       "      <td>af7492eec004</td>\n",
       "      <td>cdp-minutes-item-generation-dataset/transcript...</td>\n",
       "      <td>CB 119827;Inf 1677;Call To Order;Public Commen...</td>\n",
       "    </tr>\n",
       "    <tr>\n",
       "      <th>173</th>\n",
       "      <td>cdp-seattle-21723dcf</td>\n",
       "      <td>59e82e951afe</td>\n",
       "      <td>924690a901d9</td>\n",
       "      <td>cdp-minutes-item-generation-dataset/transcript...</td>\n",
       "      <td>Inf 1962;Approval of the Agenda;Inf 1963;Publi...</td>\n",
       "    </tr>\n",
       "    <tr>\n",
       "      <th>...</th>\n",
       "      <td>...</td>\n",
       "      <td>...</td>\n",
       "      <td>...</td>\n",
       "      <td>...</td>\n",
       "      <td>...</td>\n",
       "    </tr>\n",
       "    <tr>\n",
       "      <th>59</th>\n",
       "      <td>cdp-seattle-21723dcf</td>\n",
       "      <td>1ca25fd1350f</td>\n",
       "      <td>ee7672ff5985</td>\n",
       "      <td>cdp-minutes-item-generation-dataset/transcript...</td>\n",
       "      <td>Inf 1834;Public Comment;Adjournment;Approval o...</td>\n",
       "    </tr>\n",
       "    <tr>\n",
       "      <th>120</th>\n",
       "      <td>cdp-seattle-21723dcf</td>\n",
       "      <td>3f46d6319e6f</td>\n",
       "      <td>b542150ecb3e</td>\n",
       "      <td>cdp-minutes-item-generation-dataset/transcript...</td>\n",
       "      <td>Appt 02183;Public Comment;Adjournment;Inf 2040...</td>\n",
       "    </tr>\n",
       "    <tr>\n",
       "      <th>12</th>\n",
       "      <td>cdp-seattle-21723dcf</td>\n",
       "      <td>062f6b2b2003</td>\n",
       "      <td>79fb834ac65c</td>\n",
       "      <td>cdp-minutes-item-generation-dataset/transcript...</td>\n",
       "      <td>Res 32029;Approval of the Agenda;Call To Order...</td>\n",
       "    </tr>\n",
       "    <tr>\n",
       "      <th>507</th>\n",
       "      <td>cdp-seattle-21723dcf</td>\n",
       "      <td>f9bbf34ef7fe</td>\n",
       "      <td>4fa4155c9d49</td>\n",
       "      <td>cdp-minutes-item-generation-dataset/transcript...</td>\n",
       "      <td>Appt 01533;CALL TO ORDER;Appt 01534;Appt 01535...</td>\n",
       "    </tr>\n",
       "    <tr>\n",
       "      <th>237</th>\n",
       "      <td>cdp-seattle-21723dcf</td>\n",
       "      <td>775c091c365a</td>\n",
       "      <td>24d817c794f2</td>\n",
       "      <td>cdp-minutes-item-generation-dataset/transcript...</td>\n",
       "      <td>APPROVAL OF CONSENT CALENDAR;Min 379;ADJOURNME...</td>\n",
       "    </tr>\n",
       "  </tbody>\n",
       "</table>\n",
       "<p>200 rows × 5 columns</p>\n",
       "</div>"
      ],
      "text/plain": [
       "           infrastructure    session_id      event_id  \\\n",
       "273  cdp-seattle-21723dcf  884c13780b1d  7f5c5388633c   \n",
       "272  cdp-seattle-21723dcf  880bc2244617  bfc50250df4b   \n",
       "329  cdp-seattle-21723dcf  a7d9aa54081e  5d144a76c5fb   \n",
       "481  cdp-seattle-21723dcf  f16d100e510a  af7492eec004   \n",
       "173  cdp-seattle-21723dcf  59e82e951afe  924690a901d9   \n",
       "..                    ...           ...           ...   \n",
       "59   cdp-seattle-21723dcf  1ca25fd1350f  ee7672ff5985   \n",
       "120  cdp-seattle-21723dcf  3f46d6319e6f  b542150ecb3e   \n",
       "12   cdp-seattle-21723dcf  062f6b2b2003  79fb834ac65c   \n",
       "507  cdp-seattle-21723dcf  f9bbf34ef7fe  4fa4155c9d49   \n",
       "237  cdp-seattle-21723dcf  775c091c365a  24d817c794f2   \n",
       "\n",
       "                                       transcript_path  \\\n",
       "273  cdp-minutes-item-generation-dataset/transcript...   \n",
       "272  cdp-minutes-item-generation-dataset/transcript...   \n",
       "329  cdp-minutes-item-generation-dataset/transcript...   \n",
       "481  cdp-minutes-item-generation-dataset/transcript...   \n",
       "173  cdp-minutes-item-generation-dataset/transcript...   \n",
       "..                                                 ...   \n",
       "59   cdp-minutes-item-generation-dataset/transcript...   \n",
       "120  cdp-minutes-item-generation-dataset/transcript...   \n",
       "12   cdp-minutes-item-generation-dataset/transcript...   \n",
       "507  cdp-minutes-item-generation-dataset/transcript...   \n",
       "237  cdp-minutes-item-generation-dataset/transcript...   \n",
       "\n",
       "                                         minutes_items  \n",
       "273  Approval of the Minutes;President's Report;Sig...  \n",
       "272  CB 119831;Public Comment;Adjournment;Approval ...  \n",
       "329  Inf 1662;Public Comment;Session I - 10:00 a.m....  \n",
       "481  CB 119827;Inf 1677;Call To Order;Public Commen...  \n",
       "173  Inf 1962;Approval of the Agenda;Inf 1963;Publi...  \n",
       "..                                                 ...  \n",
       "59   Inf 1834;Public Comment;Adjournment;Approval o...  \n",
       "120  Appt 02183;Public Comment;Adjournment;Inf 2040...  \n",
       "12   Res 32029;Approval of the Agenda;Call To Order...  \n",
       "507  Appt 01533;CALL TO ORDER;Appt 01534;Appt 01535...  \n",
       "237  APPROVAL OF CONSENT CALENDAR;Min 379;ADJOURNME...  \n",
       "\n",
       "[200 rows x 5 columns]"
      ]
     },
     "execution_count": 2,
     "metadata": {},
     "output_type": "execute_result"
    }
   ],
   "source": [
    "# Selects a random sample\n",
    "sample = df.sample(n=200, random_state=1)\n",
    "sample[\"minutes_items\"] = sample.minutes_items.apply(lambda x: \";\".join(x))\n",
    "sample"
   ]
  },
  {
   "cell_type": "code",
   "execution_count": 9,
   "id": "cb15e95c-fa77-4ac9-9939-4aaa60a92845",
   "metadata": {},
   "outputs": [],
   "source": [
    "# 3. Split the selected subset into train, validation, and test splits\n",
    "from sklearn.model_selection import train_test_split"
   ]
  },
  {
   "cell_type": "code",
   "execution_count": 22,
   "id": "4480a937-f0e5-4865-a438-1cc933d0cdfe",
   "metadata": {},
   "outputs": [],
   "source": [
    "X = []\n",
    "y = []\n",
    "for index, row in sample.iterrows():\n",
    "    transcript_sentences = pd.read_csv(row.transcript_path)\n",
    "    text = transcript_sentences.text.str.cat(sep=' ')\n",
    "    X.append(text)\n",
    "    y.append(row.minutes_items)"
   ]
  },
  {
   "cell_type": "code",
   "execution_count": 23,
   "id": "fcf06053-368c-4091-ae1f-a57e71b11ad7",
   "metadata": {},
   "outputs": [],
   "source": [
    "X_train, X_rem, y_train, y_rem = train_test_split(X, y, test_size=0.2, random_state=42)"
   ]
  },
  {
   "cell_type": "code",
   "execution_count": 24,
   "id": "f85ebebf-878f-4159-96c2-bcdda0397b52",
   "metadata": {},
   "outputs": [],
   "source": [
    "test_size = 0.5\n",
    "X_valid, X_test, y_valid, y_test = train_test_split(X_rem,y_rem, test_size=0.5)"
   ]
  },
  {
   "cell_type": "code",
   "execution_count": 37,
   "id": "bceba16a-b7ed-4ce1-afd2-97b39f0fae3f",
   "metadata": {},
   "outputs": [],
   "source": [
    "temp = {\"train\": [pd.DataFrame({'sentences': X_train}), pd.DataFrame({'minutes_items': y_train})],\n",
    "        \"valid\": [pd.DataFrame({'sentences': X_valid}), pd.DataFrame({'minutes_items': y_valid})],\n",
    "        \"test\": [pd.DataFrame({'sentences': X_test}), pd.DataFrame({'minutes_items': y_test})]}"
   ]
  },
  {
   "cell_type": "code",
   "execution_count": 38,
   "id": "0bc5015e-1c42-4cbe-ac40-2d7e2c03311c",
   "metadata": {},
   "outputs": [],
   "source": [
    "data = pd.DataFrame(temp)"
   ]
  },
  {
   "cell_type": "code",
   "execution_count": null,
   "id": "a87bcafa-4669-4039-9056-ab2759352975",
   "metadata": {},
   "outputs": [],
   "source": [
    "print"
   ]
  },
  {
   "cell_type": "code",
   "execution_count": 6,
   "id": "65a1e1f7-2e73-4e8e-84f9-cb8ce252c86c",
   "metadata": {},
   "outputs": [],
   "source": [
    "# 4. training using mT5"
   ]
  },
  {
   "cell_type": "markdown",
   "id": "0d8e37d9-8193-4aec-9c42-319f56efd12c",
   "metadata": {},
   "source": [
    "## Preprocessing the data"
   ]
  },
  {
   "cell_type": "code",
   "execution_count": null,
   "id": "eb36faa5-9ec4-48bb-982d-9b116cf7783a",
   "metadata": {},
   "outputs": [],
   "source": [
    "from transformers import AutoTokenizer\n",
    "\n",
    "model_checkpoint = \"google/mt5-small\"\n",
    "tokenizer = AutoTokenizer.from_pretrained(model_checkpoint)"
   ]
  },
  {
   "cell_type": "code",
   "execution_count": null,
   "id": "d0458d1c",
   "metadata": {
    "collapsed": false,
    "jupyter": {
     "outputs_hidden": false
    }
   },
   "outputs": [],
   "source": [
    "# Maximum length of text\n",
    "max_input_length = 512\n",
    "\n",
    "# Maximum length of outlines\n",
    "max_target_length = 30\n",
    "\n",
    "\n",
    "def preprocess_function(examples):\n",
    "    model_inputs = tokenizer(\n",
    "        examples[\"sentences\"],\n",
    "        max_length=max_input_length,\n",
    "        truncation=True,\n",
    "    )\n",
    "    labels = tokenizer(\n",
    "        examples[\"minutes_items\"], max_length=max_target_length, truncation=True\n",
    "    )\n",
    "    model_inputs[\"labels\"] = labels[\"input_ids\"]\n",
    "    return model_inputs"
   ]
  },
  {
   "cell_type": "code",
   "execution_count": null,
   "id": "5e7432df-7c2c-4a06-b438-555c013c5cf7",
   "metadata": {},
   "outputs": [],
   "source": [
    "tokenized_datasets = data.map(preprocess_function, batched=True)"
   ]
  },
  {
   "cell_type": "markdown",
   "id": "2f3c8887-7845-4868-95fa-bf2ff98e860b",
   "metadata": {},
   "source": [
    "## Metrics for text summarization"
   ]
  },
  {
   "cell_type": "code",
   "execution_count": 29,
   "id": "9bf25ad8-af10-4229-bf7d-95131fdf1928",
   "metadata": {},
   "outputs": [
    {
     "data": {
      "application/vnd.jupyter.widget-view+json": {
       "model_id": "e0d666f36f21461487c5a0202f4d87b3",
       "version_major": 2,
       "version_minor": 0
      },
      "text/plain": [
       "Downloading builder script:   0%|          | 0.00/6.27k [00:00<?, ?B/s]"
      ]
     },
     "metadata": {},
     "output_type": "display_data"
    }
   ],
   "source": [
    "import evaluate\n",
    "\n",
    "rouge_score = evaluate.load(\"rouge\")"
   ]
  },
  {
   "cell_type": "markdown",
   "id": "07a3410d-8620-43ee-b95b-d8570b1bbe5e",
   "metadata": {},
   "source": [
    "## Creating a strong baseline"
   ]
  },
  {
   "cell_type": "code",
   "execution_count": 31,
   "id": "205fc6b3-f31e-4fd4-9f31-0ba9ed3074b8",
   "metadata": {},
   "outputs": [
    {
     "name": "stderr",
     "output_type": "stream",
     "text": [
      "[nltk_data] Downloading package punkt to\n",
      "[nltk_data]     /Users/ethanzhuang/nltk_data...\n",
      "[nltk_data]   Unzipping tokenizers/punkt.zip.\n"
     ]
    },
    {
     "data": {
      "text/plain": [
       "True"
      ]
     },
     "execution_count": 31,
     "metadata": {},
     "output_type": "execute_result"
    }
   ],
   "source": [
    "import nltk\n",
    "\n",
    "nltk.download(\"punkt\")"
   ]
  },
  {
   "cell_type": "code",
   "execution_count": null,
   "id": "f573bae8-b8d3-4f86-90a4-f336fa424d60",
   "metadata": {},
   "outputs": [],
   "source": [
    "from nltk.tokenize import sent_tokenize\n",
    "\n",
    "\n",
    "def three_sentence_summary(text):\n",
    "    return \"\\n\".join(sent_tokenize(text)[:3])\n",
    "\n",
    "\n",
    "print(three_sentence_summary(data[\"train\"][\"sentences\"]))"
   ]
  },
  {
   "cell_type": "code",
   "execution_count": null,
   "id": "40fb02b3-3fee-40f4-9b1c-78033b37854e",
   "metadata": {},
   "outputs": [],
   "source": [
    "def evaluate_baseline(dataset, metric):\n",
    "    summaries = [three_sentence_summary(text) for text in dataset[\"sentences\"]]\n",
    "    return metric.compute(predictions=summaries, references=dataset[\"minute_items\"])"
   ]
  },
  {
   "cell_type": "code",
   "execution_count": null,
   "id": "e26f80f2-5f61-428e-b04c-84c847d4129d",
   "metadata": {},
   "outputs": [],
   "source": [
    "import pandas as pd\n",
    "\n",
    "score = evaluate_baseline(data[\"validation\"], rouge_score)\n",
    "rouge_names = [\"rouge1\", \"rouge2\", \"rougeL\", \"rougeLsum\"]\n",
    "rouge_dict = dict((rn, round(score[rn].mid.fmeasure * 100, 2)) for rn in rouge_names)\n",
    "rouge_dict"
   ]
  },
  {
   "cell_type": "markdown",
   "id": "b4960971-3bc7-404a-86c7-8cb034ca6f9f",
   "metadata": {},
   "source": [
    "## Fine-tuning mT5 with Keras"
   ]
  },
  {
   "cell_type": "code",
   "execution_count": null,
   "id": "58dacc8d-4b82-45c9-86a8-dbcee0459954",
   "metadata": {},
   "outputs": [],
   "source": [
    "# load the pretrained model from the mt5-small checkpoint\n",
    "from transformers import TFAutoModelForSeq2SeqLM\n",
    "\n",
    "model = TFAutoModelForSeq2SeqLM.from_pretrained(model_checkpoint)"
   ]
  },
  {
   "cell_type": "code",
   "execution_count": null,
   "id": "9abe5640-c916-4a80-aa99-e411821dd927",
   "metadata": {},
   "outputs": [],
   "source": [
    "# dynamically pad the inputs and the labels\n",
    "from transformers import DataCollatorForSeq2Seq\n",
    "\n",
    "data_collator = DataCollatorForSeq2Seq(tokenizer, model=model, return_tensors=\"tf\")"
   ]
  },
  {
   "cell_type": "code",
   "execution_count": null,
   "id": "d1be53e1-6506-47be-927c-1574e4cd4fdf",
   "metadata": {},
   "outputs": [],
   "source": [
    "# remove the columns with strings\n",
    "tokenized_datasets = tokenized_datasets.remove_columns(\n",
    "    data[\"train\"].column_names\n",
    ")"
   ]
  },
  {
   "cell_type": "code",
   "execution_count": null,
   "id": "a2d19e99-c9bd-45bf-9fce-2ecec8de86d2",
   "metadata": {},
   "outputs": [],
   "source": [
    "# convert our datasets to tf.data\n",
    "tf_train_dataset = model.prepare_tf_dataset(\n",
    "    tokenized_datasets[\"train\"],\n",
    "    collate_fn=data_collator,\n",
    "    shuffle=True,\n",
    "    batch_size=8,\n",
    ")\n",
    "tf_eval_dataset = model.prepare_tf_dataset(\n",
    "    tokenized_datasets[\"validation\"],\n",
    "    collate_fn=data_collator,\n",
    "    shuffle=False,\n",
    "    batch_size=8,\n",
    ")"
   ]
  },
  {
   "cell_type": "code",
   "execution_count": null,
   "id": "59e885eb-5726-4ea9-85e7-32015d9716ae",
   "metadata": {},
   "outputs": [],
   "source": [
    "# define our training hyperparameters and compile\n",
    "from transformers import create_optimizer\n",
    "import tensorflow as tf\n",
    "\n",
    "# The number of training steps is the number of samples in the dataset, divided by the batch size then multiplied\n",
    "# by the total number of epochs. Note that the tf_train_dataset here is a batched tf.data.Dataset,\n",
    "# not the original Hugging Face Dataset, so its len() is already num_samples // batch_size.\n",
    "num_train_epochs = 8\n",
    "num_train_steps = len(tf_train_dataset) * num_train_epochs\n",
    "model_name = model_checkpoint.split(\"/\")[-1]\n",
    "\n",
    "optimizer, schedule = create_optimizer(\n",
    "    init_lr=5.6e-5,\n",
    "    num_warmup_steps=0,\n",
    "    num_train_steps=num_train_steps,\n",
    "    weight_decay_rate=0.01,\n",
    ")\n",
    "\n",
    "model.compile(optimizer=optimizer)\n",
    "\n",
    "# Train in mixed-precision float16\n",
    "tf.keras.mixed_precision.set_global_policy(\"mixed_float16\")"
   ]
  },
  {
   "cell_type": "code",
   "execution_count": null,
   "id": "2e3c1b00-c6fc-4ea0-bb7a-3e5af3ebf613",
   "metadata": {},
   "outputs": [],
   "source": [
    "# fit the model\n",
    "from transformers.keras_callbacks import PushToHubCallback\n",
    "\n",
    "callback = PushToHubCallback(\n",
    "    output_dir=f\"{model_name}-finetuned-amazon-en-es\", tokenizer=tokenizer\n",
    ")\n",
    "\n",
    "model.fit(\n",
    "    tf_train_dataset, validation_data=tf_eval_dataset, callbacks=[callback], epochs=8\n",
    ")"
   ]
  },
  {
   "cell_type": "code",
   "execution_count": null,
   "id": "d9e79a9a-67c0-4255-977a-8a74e4e8c1c2",
   "metadata": {},
   "outputs": [],
   "source": [
    "# build some lists of labels and predictions for the ROUGE metric to compare\n",
    "from tqdm import tqdm\n",
    "import numpy as np\n",
    "\n",
    "generation_data_collator = DataCollatorForSeq2Seq(\n",
    "    tokenizer, model=model, return_tensors=\"tf\", pad_to_multiple_of=320\n",
    ")\n",
    "\n",
    "tf_generate_dataset = model.prepare_tf_dataset(\n",
    "    tokenized_datasets[\"validation\"],\n",
    "    collate_fn=generation_data_collator,\n",
    "    shuffle=False,\n",
    "    batch_size=8,\n",
    "    drop_remainder=True,\n",
    ")\n",
    "\n",
    "\n",
    "@tf.function(jit_compile=True)\n",
    "def generate_with_xla(batch):\n",
    "    return model.generate(\n",
    "        input_ids=batch[\"input_ids\"],\n",
    "        attention_mask=batch[\"attention_mask\"],\n",
    "        max_new_tokens=32,\n",
    "    )\n",
    "\n",
    "\n",
    "all_preds = []\n",
    "all_labels = []\n",
    "for batch, labels in tqdm(tf_generate_dataset):\n",
    "    predictions = generate_with_xla(batch)\n",
    "    decoded_preds = tokenizer.batch_decode(predictions, skip_special_tokens=True)\n",
    "    labels = labels.numpy()\n",
    "    labels = np.where(labels != -100, labels, tokenizer.pad_token_id)\n",
    "    decoded_labels = tokenizer.batch_decode(labels, skip_special_tokens=True)\n",
    "    decoded_preds = [\"\\n\".join(sent_tokenize(pred.strip())) for pred in decoded_preds]\n",
    "    decoded_labels = [\"\\n\".join(sent_tokenize(label.strip())) for label in decoded_labels]\n",
    "    all_preds.extend(decoded_preds)\n",
    "    all_labels.extend(decoded_labels)"
   ]
  },
  {
   "cell_type": "code",
   "execution_count": null,
   "id": "d4b4cd55-7fcb-4bfa-8d27-0d5e9557a394",
   "metadata": {},
   "outputs": [],
   "source": [
    "# compue the ROUGE score\n",
    "result = rouge_score.compute(\n",
    "    predictions=decoded_preds, references=decoded_labels, use_stemmer=True\n",
    ")\n",
    "result = {key: value.mid.fmeasure * 100 for key, value in result.items()}\n",
    "{k: round(v, 4) for k, v in result.items()}"
   ]
  },
  {
   "cell_type": "markdown",
   "id": "8f274f53-f020-4411-8ff5-636682c0068d",
   "metadata": {},
   "source": [
    "## Using fine-tuned model"
   ]
  },
  {
   "cell_type": "code",
   "execution_count": null,
   "id": "c6e88ef6-e8b6-4321-a804-8fb64472cee0",
   "metadata": {},
   "outputs": [],
   "source": [
    "from transformers import pipeline\n",
    "\n",
    "hub_model_id = \"huggingface-course/mt5-small-finetuned-amazon-en-es\"\n",
    "summarizer = pipeline(\"summarization\", model=hub_model_id)"
   ]
  },
  {
   "cell_type": "code",
   "execution_count": null,
   "id": "590331fc-9c1b-45ab-bf41-3e79f3a062ef",
   "metadata": {},
   "outputs": [],
   "source": [
    "def print_summary(idx):\n",
    "    sentences = data[\"test\"][\"sentences\"]\n",
    "    minute_items = data[\"test\"][\"minute_items\"]\n",
    "    summary = summarizer(data[\"test\"][\"minute_items\"])[\"summary_text\"]\n",
    "    print(f\"'>>> Transcripts: {sentences}'\")\n",
    "    print(f\"\\n'>>> Minute_items: {minute_items}'\")\n",
    "    print(f\"\\n'>>> Summary: {summary}'\")"
   ]
  }
 ],
 "metadata": {
  "kernelspec": {
   "display_name": "Python 3 (ipykernel)",
   "language": "python",
   "name": "python3"
  },
  "language_info": {
   "codemirror_mode": {
    "name": "ipython",
    "version": 3
   },
   "file_extension": ".py",
   "mimetype": "text/x-python",
   "name": "python",
   "nbconvert_exporter": "python",
   "pygments_lexer": "ipython3",
   "version": "3.9.16"
  }
 },
 "nbformat": 4,
 "nbformat_minor": 5
}
